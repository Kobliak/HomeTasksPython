{
 "cells": [
  {
   "cell_type": "markdown",
   "metadata": {},
   "source": [
    "**Задание 1**. Даны 2 строки: *long_phrase* и *short_phrase*. \n",
    "Напишите код, который проверяет действительно ли длинная фраза *long_phrase* длиннее короткой *short_phrase*. И выводит *True* или *False* в зависимости от результата сравнения."
   ]
  },
  {
   "cell_type": "code",
   "execution_count": 1,
   "metadata": {},
   "outputs": [
    {
     "name": "stdout",
     "output_type": "stream",
     "text": [
      "True\n"
     ]
    }
   ],
   "source": [
    "long_phrase = 'Насколько проще было бы писать программы, если бы не заказчики'\n",
    "short_phrase = '640Кб должно хватить для любых задач. Билл Гейтс (по легенде)'\n",
    "if len(long_phrase) > len (short_phrase):\n",
    "    print('True')\n",
    "else:\n",
    "    print('False')"
   ]
  },
  {
   "cell_type": "markdown",
   "metadata": {},
   "source": [
    "**Задание 2**. Дано значение объема файла в байтах (*в мегабайте 2^20 байт*). Напишите перевод этого значения в мегабайты в формате: \"*Объем файла равен 213.68Mb*\"."
   ]
  },
  {
   "cell_type": "code",
   "execution_count": 9,
   "metadata": {},
   "outputs": [
    {
     "name": "stdout",
     "output_type": "stream",
     "text": [
      "Объем файла равен 19.82MB\n"
     ]
    }
   ],
   "source": [
    "size_bytes = 20785760\n",
    "print('Объем файла равен %sMB' %round(size_bytes / 2 ** 20, 2))"
   ]
  },
  {
   "cell_type": "markdown",
   "metadata": {},
   "source": [
    "**Задание 3**. Разработать приложение для определения знака зодиака по дате рождения. Пример:\n",
    "\n",
    "Введите месяц: март\n",
    "\n",
    "Введите число: 6\n",
    "\n",
    "Вывод:\n",
    "Рыбы"
   ]
  },
  {
   "cell_type": "code",
   "execution_count": 4,
   "metadata": {},
   "outputs": [
    {
     "name": "stdout",
     "output_type": "stream",
     "text": [
      "Введите месяц: fdfddh\n",
      "Нужно ввести корректное название месяца\n",
      "Введите месяц: ноябрь\n",
      "Введите число: 7\n",
      "Вывод: Скорпион\n"
     ]
    }
   ],
   "source": [
    "months = ['январь','февраль','март','апрель','май','июнь','июль','август','сентябрь','октябрь','ноябрь','декабрь']\n",
    "while True:\n",
    "    month = input('Введите месяц: ').lower()\n",
    "    if month in months:\n",
    "        while True:\n",
    "            day = int(input('Введите число: '))\n",
    "            if 32 > day > 0:\n",
    "                if (month == 'февраль' and day > 29) or (month == 'апрель' and day > 30) or (month == 'июнь' and day > 30) or (month == 'сентябрь' and day > 30) or (month == 'ноябрь' and day > 30):\n",
    "                    print('В месяце %s меньше дней, повторите ввод' %month)\n",
    "                    continue\n",
    "                else:\n",
    "                    break\n",
    "            else:\n",
    "                print('Число дней в месяце не больше 31, повторите ввод')\n",
    "        break\n",
    "    else:\n",
    "        print('Нужно ввести корректное название месяца')\n",
    "if month == 'март':\n",
    "    if day >= 21:\n",
    "        print('Вывод: Овен')\n",
    "    else:\n",
    "        print('Вывод: Рыбы')\n",
    "elif month == 'апрель':\n",
    "    if day >= 20:\n",
    "        print('Вывод: Телец')\n",
    "    else:\n",
    "        print('Вывод: Овен')\n",
    "elif month == 'май':\n",
    "    if day >= 21:\n",
    "        print('Вывод: Близнецы')\n",
    "    else:\n",
    "        print('Вывод: Телец')\n",
    "elif month == 'июнь':\n",
    "    if day >= 21:\n",
    "        print('Вывод: Рак')\n",
    "    else:\n",
    "        print('Вывод: Близнецы') \n",
    "elif month == 'июль':\n",
    "    if day >= 23:\n",
    "        print('Вывод: Лев')\n",
    "    else:\n",
    "        print('Вывод: Рак')\n",
    "elif month == 'август':\n",
    "    if day >= 23:\n",
    "        print('Вывод: Дева')\n",
    "    else:\n",
    "        print('Вывод: Лев')\n",
    "elif month == 'сентябрь':\n",
    "    if day >= 23:\n",
    "        print('Вывод: Весы')\n",
    "    else:\n",
    "        print('Вывод: Дева')\n",
    "elif month == 'октябрь':\n",
    "    if day >= 23:\n",
    "        print('Вывод: Скорпион')\n",
    "    else:\n",
    "        print('Вывод: Весы')\n",
    "elif month == 'ноябрь':\n",
    "    if day >= 22:\n",
    "        print('Вывод: Стрелец')\n",
    "    else:\n",
    "        print('Вывод: Скорпион')\n",
    "elif month == 'декабрь':\n",
    "    if day >= 22:\n",
    "        print('Вывод: Козерог')\n",
    "    else:\n",
    "        print('Вывод: Стрелец')\n",
    "elif month == 'январь':\n",
    "    if day >= 20:\n",
    "        print('Вывод: Водолей')\n",
    "    else:\n",
    "        print('Вывод: Козерог')\n",
    "elif month == 'февраль':\n",
    "    if day >= 19:\n",
    "        print('Вывод: Рыбы')\n",
    "    else:\n",
    "        print('Вывод: Водолей')"
   ]
  },
  {
   "cell_type": "markdown",
   "metadata": {},
   "source": [
    "**Задание 4**. Нужно разработать приложение для финансового планирования.\n",
    "Приложение учитывает сколько уходит на ипотеку, \"на жизнь\" и сколько нужно отложить на пенсию.\n",
    "Пользователь вводит:\n",
    "- заработанную плату в месяц.\n",
    "- сколько процентов от ЗП уходит на ипотеку.\n",
    "- сколько процентов от ЗП уходит \"на жизнь\".\n",
    "- сколько раз приходит премия в год.\n",
    "\n",
    "Остальная часть заработанной платы откладывается на пенсию.\n",
    "\n",
    "Также пользователю приходит премия в размере зарплаты, от которой половина уходит на отпуск, а вторая половина откладывается.\n",
    "\n",
    "Программа должна учитывать сколько премий было в год.\n",
    "\n",
    "Нужно вывести сколько денег тратит пользователь на ипотеку и сколько он накопит за год.\n",
    "\n",
    "Пример:\n",
    "\n",
    "Введите заработанную плату в месяц: 100000\n",
    "\n",
    "Введите сколько процентов уходит на ипотеку: 30\n",
    "\n",
    "Введите сколько процентов уходит на жизнь: 50\n",
    "\n",
    "Введите количество премий за год: 2\n",
    "\n",
    "Вывод:\n",
    "На ипотеку было потрачено: 360000 рублей\n",
    "Было накоплено: 340000 рублей"
   ]
  },
  {
   "cell_type": "code",
   "execution_count": 8,
   "metadata": {},
   "outputs": [
    {
     "name": "stdout",
     "output_type": "stream",
     "text": [
      "Введите заработанную плату в месяц: 100000\n",
      "Введите сколько процентов уходит на ипотеку: 30\n",
      "Введите сколько процентов уходит на жизнь: 50\n",
      "Введите количество премий за год: 2\n",
      "На ипотеку было потрачено: 360000 рублей Было накоплено: 340000 рублей\n"
     ]
    }
   ],
   "source": [
    "zp_total = int(input('Введите заработанную плату в месяц: '))\n",
    "mortgage_percent = int(input('Введите сколько процентов уходит на ипотеку: '))\n",
    "mortgage_total = round(zp_total * 12 * mortgage_percent * 0.01)\n",
    "life_percent = int(input('Введите сколько процентов уходит на жизнь: '))\n",
    "bonus_qty = int(input('Введите количество премий за год: '))\n",
    "pension_percent = 100 - (mortgage_percent + life_percent)\n",
    "pencion_total = round(zp_total * 12 * pension_percent * 0.01 + zp_total * bonus_qty * 0.5)\n",
    "print('На ипотеку было потрачено: %s рублей' %mortgage_total, 'Было накоплено: %s рублей' %pencion_total)"
   ]
  },
  {
   "cell_type": "code",
   "execution_count": null,
   "metadata": {},
   "outputs": [],
   "source": []
  }
 ],
 "metadata": {
  "kernelspec": {
   "display_name": "Python 3",
   "language": "python",
   "name": "python3"
  },
  "language_info": {
   "codemirror_mode": {
    "name": "ipython",
    "version": 3
   },
   "file_extension": ".py",
   "mimetype": "text/x-python",
   "name": "python",
   "nbconvert_exporter": "python",
   "pygments_lexer": "ipython3",
   "version": "3.7.6"
  }
 },
 "nbformat": 4,
 "nbformat_minor": 2
}
