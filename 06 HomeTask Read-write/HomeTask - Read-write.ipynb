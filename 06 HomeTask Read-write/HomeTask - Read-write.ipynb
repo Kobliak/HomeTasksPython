{
 "cells": [
  {
   "cell_type": "code",
   "execution_count": 2,
   "metadata": {},
   "outputs": [],
   "source": [
    "import json\n",
    "new_dict = {}\n",
    "file = open('purchase_log.txt', 'r', encoding='utf-8')\n",
    "next(file)\n",
    "content = file.readlines()\n",
    "for line in content:\n",
    "    dict_ = json.loads(line.strip())\n",
    "    new_dict[dict_['user_id']] = dict_['category']\n",
    "file.close()\n",
    "\n",
    "file_results = open('funnel.csv', 'w')\n",
    "file_results.write('user_id,source,category\\n')\n",
    "with open ('visit_log.csv', encoding='utf-8') as file:\n",
    "    for line in file:\n",
    "        line = line.strip().split(',')\n",
    "        if line[0] in new_dict.keys():\n",
    "            line.append(new_dict[line[0]])\n",
    "            file_results.write(','.join(line) + '\\n')\n",
    "file_results.close()"
   ]
  },
  {
   "cell_type": "code",
   "execution_count": null,
   "metadata": {},
   "outputs": [],
   "source": []
  }
 ],
 "metadata": {
  "kernelspec": {
   "display_name": "Python 3",
   "language": "python",
   "name": "python3"
  }
 },
 "nbformat": 4,
 "nbformat_minor": 4
}
