{
 "cells": [
  {
   "cell_type": "code",
   "execution_count": 15,
   "metadata": {},
   "outputs": [
    {
     "data": {
      "text/plain": [
       "datetime.datetime(1977, 8, 18, 0, 0)"
      ]
     },
     "execution_count": 15,
     "metadata": {},
     "output_type": "execute_result"
    }
   ],
   "source": [
    "#Task 1\n",
    "from datetime import datetime\n",
    "Moscow_Times = 'Wednesday, October 2, 2002'\n",
    "Guardian = 'Friday, 11.10.13'\n",
    "Daily_News = 'Thursday, 18 August 1977'\n",
    "Moscow_Times_pt = datetime.strptime(Moscow_Times, '%A, %B %d, %Y')\n",
    "Guardian_pt = datetime.strptime(Guardian, '%A, %d.%m.%y')\n",
    "Daily_News_pt = datetime.strptime(Daily_News, '%A, %d %B %Y')\n"
   ]
  },
  {
   "cell_type": "code",
   "execution_count": 16,
   "metadata": {},
   "outputs": [
    {
     "data": {
      "text/plain": [
       "['True', 'False', 'False', 'True']"
      ]
     },
     "execution_count": 16,
     "metadata": {},
     "output_type": "execute_result"
    }
   ],
   "source": [
    "#Task 2\n",
    "from datetime import datetime\n",
    "stream = ['2018-04-02', '2018-02-29', '2018-19-02','2019-01-01']\n",
    "def date_format_check(stream):\n",
    "    result = []\n",
    "    for dates in stream:\n",
    "        try:\n",
    "            if datetime.strptime(dates, '%Y-%m-%d'):\n",
    "                result.append('True')\n",
    "        except:\n",
    "            result.append('False')\n",
    "    return(result)\n",
    "            \n",
    "date_format_check(stream)"
   ]
  },
  {
   "cell_type": "code",
   "execution_count": 20,
   "metadata": {},
   "outputs": [
    {
     "data": {
      "text/plain": [
       "['2018-02-20', '2018-02-21', '2018-02-22', '2018-02-23']"
      ]
     },
     "execution_count": 20,
     "metadata": {},
     "output_type": "execute_result"
    }
   ],
   "source": [
    "#Task 3\n",
    "from datetime import timedelta\n",
    "from datetime import datetime\n",
    "\n",
    "start_date = '2018-02-20'\n",
    "end_date = '2018-02-23'\n",
    "\n",
    "def date_range(start_date, end_date):\n",
    "    result_list = []\n",
    "    if start_date <= end_date:\n",
    "        try:\n",
    "            current_dt = datetime.strptime(start_date, '%Y-%m-%d')\n",
    "            end_date_dt = datetime.strptime(end_date, '%Y-%m-%d')\n",
    "            while current_dt <= end_date_dt:\n",
    "                result_list.append(current_dt.strftime('%Y-%m-%d'))\n",
    "                current_dt += timedelta(days=1)\n",
    "            return(result_list)\n",
    "        except:\n",
    "            return(result_list)            \n",
    "    else:\n",
    "        return(result_list)\n",
    "        \n",
    "date_range(start_date, end_date)"
   ]
  },
  {
   "cell_type": "raw",
   "metadata": {},
   "source": [
    "# Task 4\n",
    "\n",
    "# point 1\n",
    "## IndexError: list index out of range - означает, что функция пытается обратиться к элементу списка, номер которого превосходит размер списка.\n",
    "\n",
    "# point 2\n",
    "## При первом запуске функция получает на вход список ['A100', 'A101', 'A102'] и в процессе выполнения изменяет его, удаляя послений элемент.\n",
    "## При втором запуске функция получает уже измененный список ['A100', 'A101'], изменяет его до вида ['A100'] и при выполнении оператора return default_list[DEFAULT_USER_COUNT-2] обращается к элементу за пределами списка, что вызывает указанную выше ошибку\n"
   ]
  },
  {
   "cell_type": "code",
   "execution_count": 35,
   "metadata": {},
   "outputs": [
    {
     "data": {
      "text/plain": [
       "23"
      ]
     },
     "execution_count": 35,
     "metadata": {},
     "output_type": "execute_result"
    }
   ],
   "source": [
    "#Task 5 from \"Python_7_errors_datetime\" notebook\n",
    "data = [1, 7, 17, 23, 27, 35, 65, 75, 95]\n",
    "n = 23.5\n",
    "def func1(input_list, n):\n",
    "    if 0 < len(input_list) <= 2:\n",
    "        return(input_list[0])\n",
    "    elif n >= input_list[-1]:\n",
    "        return(input_list[-1])\n",
    "    else:\n",
    "        compare = input_list[len(input_list)//2]\n",
    "        if n > compare:\n",
    "            return(func1(input_list[len(input_list)//2:], n))\n",
    "        elif n < compare:\n",
    "            return(func1(input_list[:len(input_list)//2+1], n))\n",
    "        else:\n",
    "            return(input_list[len(input_list)//2])\n",
    "\n",
    "func1(data, n)"
   ]
  },
  {
   "cell_type": "code",
   "execution_count": null,
   "metadata": {},
   "outputs": [],
   "source": []
  }
 ],
 "metadata": {
  "kernelspec": {
   "display_name": "Python 3",
   "language": "python",
   "name": "python3"
  },
  "language_info": {
   "codemirror_mode": {
    "name": "ipython",
    "version": 3
   },
   "file_extension": ".py",
   "mimetype": "text/x-python",
   "name": "python",
   "nbconvert_exporter": "python",
   "pygments_lexer": "ipython3",
   "version": "3.7.6"
  }
 },
 "nbformat": 4,
 "nbformat_minor": 4
}
