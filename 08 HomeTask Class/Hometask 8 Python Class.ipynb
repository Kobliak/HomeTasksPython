{
 "cells": [
  {
   "cell_type": "code",
   "execution_count": 1,
   "metadata": {},
   "outputs": [
    {
     "data": {
      "text/plain": [
       "'СДР (специальные права заимствования)'"
      ]
     },
     "execution_count": 1,
     "metadata": {},
     "output_type": "execute_result"
    }
   ],
   "source": [
    "#Task 1\n",
    "import requests\n",
    "def max_currency_name():\n",
    "    max_name = ''\n",
    "    max_value = 0\n",
    "    r = requests.get('https://www.cbr-xml-daily.ru/daily_json.js')\n",
    "    for currency in r.json()['Valute'].values():\n",
    "        if currency['Value'] / currency['Nominal'] > max_value:\n",
    "            max_value = currency['Value'] / currency['Nominal']\n",
    "            max_name = currency['Name']\n",
    "    return(max_name)\n",
    "\n",
    "max_currency_name()"
   ]
  },
  {
   "cell_type": "code",
   "execution_count": 12,
   "metadata": {},
   "outputs": [],
   "source": [
    "#Task2\n",
    "import requests\n",
    "class Rate:\n",
    "    def __init__(self, format_='value'):\n",
    "        self.format = format_\n",
    "    \n",
    "    def exchange_rates(self):\n",
    "        self.r = requests.get('https://www.cbr-xml-daily.ru/daily_json.js')\n",
    "        return self.r.json()['Valute']\n",
    "    \n",
    "    def make_format(self, currency, diff=True):\n",
    "        response = self.exchange_rates()\n",
    "        if currency in response:\n",
    "            if self.format == 'full':\n",
    "                return response[currency]\n",
    "            if self.format == 'value' and diff == True:\n",
    "                return response[currency]['Value']\n",
    "            else:\n",
    "                return response[currency]['Value'] - response[currency]['Previous']\n",
    "        return 'Error'\n",
    "    \n",
    "    def eur(self, diff=True):\n",
    "        if diff == True:\n",
    "            return self.make_format('EUR', True)\n",
    "        else:\n",
    "            return self.make_format('EUR', False)\n",
    "    \n",
    "    def usd(self, diff=True):\n",
    "        if diff == True:\n",
    "            return self.make_format('USD', True)\n",
    "        else:\n",
    "            return self.make_format('USD', False)\n",
    "    \n",
    "    def brl(self, diff=True):\n",
    "        if diff == True:\n",
    "            return self.make_format('BRL', True)\n",
    "        else:\n",
    "            return self.make_format('BRL', False)\n",
    "\n",
    "    def aud(self, diff=True):\n",
    "        if diff == True:\n",
    "            return self.make_format('AUD', True)\n",
    "        else:\n",
    "            return self.make_format('AUD', False)\n",
    "    \n",
    "    def azn(self, diff=True):\n",
    "        if diff == True:\n",
    "            return self.make_format('AZN', True)\n",
    "        else:\n",
    "            return self.make_format('AZN', False)\n",
    "        \n",
    "    def gbp(self, diff=True):\n",
    "        if diff == True:\n",
    "            return self.make_format('GBP', True)\n",
    "        else:\n",
    "            return self.make_format('GBP', False)\n",
    "        \n",
    "    def cross_rate(self, currency_1, currency_2):\n",
    "        return self.make_format(currency_1, True) / self.make_format(currency_2, True)"
   ]
  },
  {
   "cell_type": "code",
   "execution_count": 14,
   "metadata": {},
   "outputs": [],
   "source": [
    "r = Rate(format_='value')"
   ]
  },
  {
   "cell_type": "code",
   "execution_count": 3,
   "metadata": {},
   "outputs": [
    {
     "data": {
      "text/plain": [
       "50.085"
      ]
     },
     "execution_count": 3,
     "metadata": {},
     "output_type": "execute_result"
    }
   ],
   "source": [
    "r.aud()"
   ]
  },
  {
   "cell_type": "code",
   "execution_count": 17,
   "metadata": {},
   "outputs": [
    {
     "data": {
      "text/plain": [
       "0.5985000000000014"
      ]
     },
     "execution_count": 17,
     "metadata": {},
     "output_type": "execute_result"
    }
   ],
   "source": [
    "r.gbp(False)"
   ]
  },
  {
   "cell_type": "code",
   "execution_count": 16,
   "metadata": {},
   "outputs": [
    {
     "data": {
      "text/plain": [
       "0.8779634705767848"
      ]
     },
     "execution_count": 16,
     "metadata": {},
     "output_type": "execute_result"
    }
   ],
   "source": [
    " r.cross_rate('USD', 'EUR')"
   ]
  },
  {
   "cell_type": "code",
   "execution_count": null,
   "metadata": {},
   "outputs": [],
   "source": []
  },
  {
   "cell_type": "code",
   "execution_count": 61,
   "metadata": {},
   "outputs": [],
   "source": [
    "#Task 3\n",
    "class Employee:\n",
    "    def __init__(self, name, seniority):\n",
    "        self.name = name\n",
    "        self.seniority = seniority\n",
    "        self.grade = 1\n",
    "    \n",
    "    def grade_up(self):\n",
    "        \"\"\"Повышает уровень сотрудника\"\"\"\n",
    "        self.grade += 1\n",
    "    \n",
    "    def publish_grade(self):\n",
    "        \"\"\"Публикация результатов аккредитации сотрудников\"\"\"\n",
    "        print(self.name, self.grade)\n",
    "    \n",
    "    def check_if_it_is_time_for_upgrade(self):\n",
    "        pass\n",
    "\n",
    "    \n",
    "class Designer(Employee):\n",
    "    def __init__(self, name, seniority, awards=2):\n",
    "        super().__init__(name, seniority)\n",
    "        self.seniority += awards * 2\n",
    "        \n",
    "    def check_if_it_is_time_for_upgrade(self, annual_awards=0):\n",
    "        # для каждой аккредитации увеличиваем счетчик на 1, если не было получено в течение периода наград\n",
    "        # каждая награда добавляет 2 балла к аккредитации. По умолчанию количество наград = 0\n",
    "        old_seniority = self.seniority\n",
    "        self.seniority += 1 + annual_awards*2\n",
    "        # условие повышения дизайнера из презентации - каждый новый уровень за 7 баллов \n",
    "        if (self.seniority // 7) - (old_seniority // 7) == 1:\n",
    "            self.grade_up()\n",
    "        elif (self.seniority // 7) - (old_seniority // 7) >=2:\n",
    "            for i in range (1, ((self.seniority // 7) - (old_seniority // 7))):\n",
    "                self.grade_up()\n",
    "        \n",
    "        # публикация результатов\n",
    "        return self.publish_grade()"
   ]
  },
  {
   "cell_type": "code",
   "execution_count": 62,
   "metadata": {},
   "outputs": [
    {
     "name": "stdout",
     "output_type": "stream",
     "text": [
      "Елена 1\n",
      "Елена 1\n",
      "Елена 2\n",
      "Елена 2\n",
      "Елена 2\n",
      "Елена 2\n",
      "Елена 2\n",
      "Елена 2\n",
      "Елена 2\n",
      "Елена 3\n",
      "Елена 3\n",
      "Елена 3\n",
      "Елена 3\n",
      "Елена 3\n",
      "Елена 3\n",
      "Елена 3\n",
      "Елена 4\n",
      "Елена 4\n",
      "Елена 4\n",
      "Елена 4\n"
     ]
    }
   ],
   "source": [
    "elena = Designer('Елена', seniority=0, awards=2)\n",
    "for i in range(20):\n",
    "    elena.check_if_it_is_time_for_upgrade()"
   ]
  },
  {
   "cell_type": "code",
   "execution_count": 63,
   "metadata": {},
   "outputs": [
    {
     "name": "stdout",
     "output_type": "stream",
     "text": [
      "Катерина 2\n",
      "Катерина 2\n",
      "Катерина 2\n",
      "Катерина 3\n",
      "Катерина 3\n",
      "Катерина 4\n",
      "Катерина 4\n",
      "Катерина 5\n",
      "Катерина 5\n",
      "Катерина 5\n",
      "Катерина 6\n",
      "Катерина 6\n",
      "Катерина 7\n",
      "Катерина 7\n",
      "Катерина 8\n",
      "Катерина 8\n",
      "Катерина 8\n",
      "Катерина 9\n",
      "Катерина 9\n",
      "Катерина 10\n"
     ]
    }
   ],
   "source": [
    "kate = Designer('Катерина', seniority=0, awards=2)\n",
    "for i in range(20):\n",
    "    kate.check_if_it_is_time_for_upgrade(1)"
   ]
  },
  {
   "cell_type": "code",
   "execution_count": null,
   "metadata": {},
   "outputs": [],
   "source": []
  }
 ],
 "metadata": {
  "kernelspec": {
   "display_name": "Python 3",
   "language": "python",
   "name": "python3"
  },
  "language_info": {
   "codemirror_mode": {
    "name": "ipython",
    "version": 3
   },
   "file_extension": ".py",
   "mimetype": "text/x-python",
   "name": "python",
   "nbconvert_exporter": "python",
   "pygments_lexer": "ipython3",
   "version": "3.7.6"
  }
 },
 "nbformat": 4,
 "nbformat_minor": 4
}
