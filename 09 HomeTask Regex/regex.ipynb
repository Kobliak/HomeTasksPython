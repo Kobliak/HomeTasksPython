{
 "cells": [
  {
   "cell_type": "markdown",
   "metadata": {},
   "source": [
    "# Домашнее задание к лекции \"Регулярные выражения\"\n",
    "\n",
    "Внимание! При реализации всех заданий необходимо использовать именно функционал регулярных выражений для обработки текста."
   ]
  },
  {
   "cell_type": "markdown",
   "metadata": {},
   "source": [
    "## Задание 1\n",
    "\n",
    "Напишите функцию, которая принимает на вход строку и проверяет является ли она валидным транспортным номером (1 буква, 3 цифры, 2 буквы, 2-3 цифры). Обратите внимание, что не все буквы кириллического алфавита используются в транспортных номерах.\n",
    "\n",
    "Если номер валиден, то функция должна возвращать отдельно номер и регион.\n",
    "\n",
    "Примеры работы программы:  \n",
    "\n",
    "1. `car_id = 'АВ222С96'`\n",
    "\n",
    "Результат: \n",
    "`Номер АВ222С валиден. Регион: 96`\n",
    "\n",
    "2. `car_id = 'АБ22ВВ193'`\n",
    "\n",
    "Результат: \n",
    "`Номер не валиден`"
   ]
  },
  {
   "cell_type": "code",
   "execution_count": 31,
   "metadata": {},
   "outputs": [
    {
     "name": "stdout",
     "output_type": "stream",
     "text": [
      "Номер H433НА валиден. Регион: 781\n"
     ]
    },
    {
     "data": {
      "text/plain": [
       "('H433НА', '781')"
      ]
     },
     "execution_count": 31,
     "metadata": {},
     "output_type": "execute_result"
    }
   ],
   "source": [
    "import re\n",
    "car_id = 'H433На781'\n",
    "def check_num (numb_str):\n",
    "    pattern = re.compile('([АВСЕНКМОРТХУABCEHKMOPTXY]\\d{3}[АВСЕНКМОРТХУABCEHKMOPTXY]{2})(\\d{2,3})')\n",
    "    if re.fullmatch(pattern,numb_str.upper()):\n",
    "        result_ = re.search(pattern, numb_str.upper())\n",
    "        print(f'Номер {result_[1]} валиден. Регион: {result_[2]}')\n",
    "        return(result_[1], result_[2])\n",
    "    else:\n",
    "        print('Номер не валиден')\n",
    "        return('Error')\n",
    "check_num(car_id)"
   ]
  },
  {
   "cell_type": "code",
   "execution_count": null,
   "metadata": {},
   "outputs": [],
   "source": [
    "## Задание 2\n",
    "\n",
    "Напишите функцию, которая будет удалять все последовательные повторы слов из заданной строки при помощи регулярных выражений.\n",
    "\n",
    "Пример работы программы:  \n",
    "\n",
    "`some_string = 'Напишите функцию функцию, которая будет будет будет будет удалять все все все все последовательные повторы слов из из из из заданной строки строки при помощи регулярных выражений'`\n",
    "\n",
    "Результат: \n",
    "`Напишите функцию, которая будет удалять все последовательные повторы слов из заданной строки при помощи регулярных выражений.`"
   ]
  },
  {
   "cell_type": "code",
   "execution_count": 32,
   "metadata": {},
   "outputs": [
    {
     "data": {
      "text/plain": [
       "'Напишите функцию, которая which которая будет удалять все all последовательные повторы слов'"
      ]
     },
     "execution_count": 32,
     "metadata": {},
     "output_type": "execute_result"
    }
   ],
   "source": [
    "import re\n",
    "inp_str = 'Напишите функцию, которая which which которая которая будет будет будет удалять все все all all последовательные повторы слов'\n",
    "def rep_del (input_str):\n",
    "#    pattern = re.compile(r'\\b(\\w+)( \\1\\b)+')\n",
    "    pattern = re.compile(r'\\b([а-яёА-ЯЁa-zA-Z]+)( \\1\\b)+')\n",
    "    result = re.sub(pattern, r'\\1', input_str)\n",
    "    return(result)\n",
    "    \n",
    "rep_del(inp_str)"
   ]
  },
  {
   "cell_type": "markdown",
   "metadata": {},
   "source": [
    "## Задание 3\n",
    "\n",
    "Напишите функцию, которая будет возвращать акроним по переданной в нее строке со словами.\n",
    "\n",
    "Примеры работы программы:  \n",
    "\n",
    "1. `some_words = 'Информационные технологии'`\n",
    "\n",
    "Результат: \n",
    "`ИТ`\n",
    "\n",
    "2. `some_words = 'Near Field Communication'`\n",
    "\n",
    "Результат: \n",
    "`NFC`"
   ]
  },
  {
   "cell_type": "code",
   "execution_count": 52,
   "metadata": {},
   "outputs": [
    {
     "data": {
      "text/plain": [
       "'ИТИТ'"
      ]
     },
     "execution_count": 52,
     "metadata": {},
     "output_type": "execute_result"
    }
   ],
   "source": [
    "import re\n",
    "some_words = 'Информационные технологии инвестици и товарищества'\n",
    "#some_words = 'Near Field communication & concatenation'\n",
    "def acronim(string):\n",
    "    res = ''\n",
    "    pattern = re.compile(r'(([А-ЯЁA-Zа-яёa-z])([а-яa-z]+))')\n",
    "    result_ = re.findall(pattern, string)\n",
    "    for part in result_:\n",
    "        res += part[1].upper()\n",
    "    return(res)\n",
    "\n",
    "acronim(some_words)"
   ]
  },
  {
   "cell_type": "markdown",
   "metadata": {},
   "source": [
    "## Задание 4\n",
    "\n",
    "Напишите функцию, которая будет принимать на вход список email-адресов и выводить их распределение по доменным зонам.\n",
    "\n",
    "Пример работы программы:  \n",
    "\n",
    "`emails = ['test@gmail.com, xyz@test.in, test@ya.ru, xyz@mail.ru, xyz@ya.ru', xyz@gmail.com]`\n",
    "\n",
    "Результат: \n",
    "```\n",
    "gmail.com: 2\n",
    "test.in: 1 \n",
    "ya.ru: 2 \n",
    "mail.ru: 1\n",
    "```"
   ]
  },
  {
   "cell_type": "code",
   "execution_count": 33,
   "metadata": {},
   "outputs": [
    {
     "name": "stdout",
     "output_type": "stream",
     "text": [
      "gma.il.com: 2\n",
      "test.in: 1\n",
      "y1a.ru: 1\n",
      "mail.ru: 2\n",
      "ya.ru: 2\n"
     ]
    },
    {
     "data": {
      "text/plain": [
       "{'gma.il.com': 2, 'test.in': 1, 'y1a.ru': 1, 'mail.ru': 2, 'ya.ru': 2}"
      ]
     },
     "execution_count": 33,
     "metadata": {},
     "output_type": "execute_result"
    }
   ],
   "source": [
    "import re\n",
    "emails = ['test@gma.il.com', 'xyz@test.in', 'test@y1a.ru', 'xyz@mail.ru', 'xyz@ya.ru', 'xyz@gma.il.com', '123@mail.ru', '123@ya.ru']\n",
    "def email_check(emails_list):\n",
    "    res_dict = {}\n",
    "    pattern = re.compile(r'(^[a-zA-Z0-9])([a-zA-Z0-9_.-]{1,})(@)([a-zA-Z0-9_.-]{2,})(\\.)([a-zA-Z]{2,4})')\n",
    "    \n",
    "    for email in emails_list:\n",
    "        result1 = re.match(pattern, email).group().split('@')\n",
    "        if result1[1] not in res_dict.keys():\n",
    "            res_dict[result1[1]] = 1\n",
    "        else:\n",
    "            res_dict[result1[1]] += 1\n",
    "    \n",
    "    for k,v in res_dict.items():\n",
    "        print(f'{k}: {v}')\n",
    "    \n",
    "    return(res_dict)    \n",
    "\n",
    "\n",
    "email_check(emails)\n",
    "        \n",
    "        "
   ]
  },
  {
   "cell_type": "code",
   "execution_count": null,
   "metadata": {},
   "outputs": [],
   "source": []
  },
  {
   "cell_type": "markdown",
   "metadata": {},
   "source": [
    "## Задание 5 (необязательное)\n",
    "\n",
    "Напишите функцию, которая будет подсчитывать сколько слов начинается на гласные, а сколько на согласные буквы в тексте (текст может быть написан как с использованием букв кириллицы, так и латиницы).\n",
    "\n",
    "Пример работы программы:  \n",
    "\n",
    "`some_text = 'Эталонной реализацией Python является интерпретатор CPython, поддерживающий большинство активно используемых платформ. Он распространяется под свободной лицензией Python Software Foundation License, позволяющей использовать его без ограничений в любых приложениях, включая проприетарные.'`\n",
    "\n",
    "Результат: \n",
    "```\n",
    "Слов на гласные буквы: 9\n",
    "Слов на согласные буквы: 21 \n",
    "```"
   ]
  },
  {
   "cell_type": "code",
   "execution_count": 6,
   "metadata": {},
   "outputs": [
    {
     "name": "stdout",
     "output_type": "stream",
     "text": [
      "Слов на гласные буквы: 9\n",
      "Слов на согласные буквы: 21\n"
     ]
    },
    {
     "data": {
      "text/plain": [
       "(9, 21)"
      ]
     },
     "execution_count": 6,
     "metadata": {},
     "output_type": "execute_result"
    }
   ],
   "source": [
    "import re\n",
    "some_text = 'Эталонной реализацией Python является интерпретатор CPython, поддерживающий большинство активно используемых платформ. Он распространяется под свободной лицензией Python Software Foundation License, позволяющей использовать его без ограничений в любых приложениях, включая проприетарные.'\n",
    "\n",
    "def count_vowel_consonat (text):\n",
    "    vowel_qty = 0\n",
    "    consonat_qty = 0\n",
    "    pattern = re.compile(r'(^[аоиеёэыуюяaeiouy])([a-zа-яё]+)')\n",
    "    \n",
    "    new_text = text.split()\n",
    "    \n",
    "    for word in new_text:\n",
    "        if re.search(pattern, word.lower()):\n",
    "            vowel_qty += 1\n",
    "        else:\n",
    "            consonat_qty +=1 \n",
    "\n",
    "    print(f'Слов на гласные буквы: {vowel_qty}')\n",
    "    print(f'Слов на согласные буквы: {consonat_qty}')\n",
    "    \n",
    "    return(vowel_qty, consonat_qty)\n",
    "    \n",
    "count_vowel_consonat(some_text)"
   ]
  },
  {
   "cell_type": "code",
   "execution_count": null,
   "metadata": {},
   "outputs": [],
   "source": []
  },
  {
   "cell_type": "markdown",
   "metadata": {},
   "source": [
    "## Задание 6 (необязательное)\n",
    "Напишите функцию, которая будет проверять номер сотового телефона на валидность, если он валиден, то переводить его в формат:   \n",
    "+7-xxx-xxx-xx-xx  \n",
    "Постарайтесь предусмотреть как можно больше адекватных форматов изначального ввода номера.\n",
    "Примеры работы программы:  \n",
    "\n",
    "1. `phone = '+7 955 555-55-55'`\n",
    "\n",
    "Результат: \n",
    "`+7-950-555-55-55`\n",
    "\n",
    "2. `phone = '8(955)555-55-55'`\n",
    "\n",
    "Результат: \n",
    "`+7-950-555-55-55`\n",
    "\n",
    "3. `phone = '+7 955 555 55 55'`\n",
    "\n",
    "Результат: \n",
    "`+7-950-555-55-55`\n",
    "\n",
    "4. `phone = '7(955) 555-55-55'`\n",
    "\n",
    "Результат: \n",
    "`+7-950-555-55-55`\n",
    "\n",
    "5. `phone = '423-555-55-5555'`\n",
    "\n",
    "Результат: \n",
    "`Номер не валиден`\n",
    "\n",
    "6. `phone = '123-456-789'`\n",
    "\n",
    "Результат: \n",
    "`Номер не валиден`"
   ]
  },
  {
   "cell_type": "code",
   "execution_count": 49,
   "metadata": {},
   "outputs": [
    {
     "data": {
      "text/plain": [
       "'+7-845-145-75-47'"
      ]
     },
     "execution_count": 49,
     "metadata": {},
     "output_type": "execute_result"
    }
   ],
   "source": [
    "import re\n",
    "ph_num = '8-(845)-145+75 47'\n",
    "def phone_num_check(phone_number):\n",
    "#    pattern = re.compile(r'(\\+?)([78]?)(\\s)?([(-])?(\\d{3})(\\)?)([\\+\\-\\s]?)(\\d{3})([\\+\\-\\s]?)(\\d{2})([\\+\\-\\s]?)(\\d{2})')\n",
    "    pattern = re.compile(r'\\+?[78]?\\s?[(-]?(\\d{3})\\)?[-_+\\s]?(\\d{3})[-_+\\s]?(\\d{2})[-_+\\s]?(\\d{2})')\n",
    "    res_number = ['+7-','-','-','-']\n",
    "    if re.search(pattern, phone_number):\n",
    "        result = re.findall(pattern, phone_number)\n",
    "        res_number.insert(1,result[0][0])\n",
    "        res_number.insert(3,result[0][1])\n",
    "        res_number.insert(5,result[0][2])\n",
    "        res_number.insert(7,result[0][3])\n",
    "        res_number = ''.join(res_number)\n",
    "        return(res_number)\n",
    "    else:\n",
    "        print('Номер не валиден')\n",
    "        return('Error')\n",
    "\n",
    "phone_num_check(ph_num)"
   ]
  },
  {
   "cell_type": "code",
   "execution_count": null,
   "metadata": {},
   "outputs": [],
   "source": []
  },
  {
   "cell_type": "markdown",
   "metadata": {},
   "source": [
    "#### ПРИМЕЧАНИЕ\n",
    "Домашнее задание сдается ссылкой на репозиторий [GitHub](https://github.com/).\n",
    "Не сможем проверить или помочь, если вы пришлете:\n",
    "- файлы;\n",
    "- архивы;\n",
    "- скриншоты кода.\n",
    "\n",
    "Все обсуждения и консультации по выполнению домашнего задания ведутся только на соответствующем канале в slack.\n",
    "\n",
    "##### Как правильно задавать вопросы аспирантам, преподавателям и коллегам\n",
    "Прежде чем задать вопрос, попробуйте найти ответ в интернете. Навык самостоятельного поиска информации — один из важнейших. Каждый практикующий специалист любого уровня делает это ежедневно.\n",
    "\n",
    "Сформулируйте вопрос по алгоритму:\n",
    "1) Что я делаю?  \n",
    "2) Какого результата я ожидаю?  \n",
    "3) Как фактический результат отличается от ожидаемого?  \n",
    "4) Что я уже попробовал сделать, чтобы исправить проблему?  \n",
    "\n",
    "По возможности прикрепите к вопросу скриншоты либо ссылки на код. Не выкладывайте все решение, оставляйте только проблемный и воспроизводимый участок кода."
   ]
  }
 ],
 "metadata": {
  "kernelspec": {
   "display_name": "Python 3",
   "language": "python",
   "name": "python3"
  },
  "language_info": {
   "codemirror_mode": {
    "name": "ipython",
    "version": 3
   },
   "file_extension": ".py",
   "mimetype": "text/x-python",
   "name": "python",
   "nbconvert_exporter": "python",
   "pygments_lexer": "ipython3",
   "version": "3.7.6"
  }
 },
 "nbformat": 4,
 "nbformat_minor": 2
}
