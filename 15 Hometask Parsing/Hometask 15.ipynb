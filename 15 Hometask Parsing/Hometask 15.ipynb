{
 "cells": [
  {
   "cell_type": "code",
   "execution_count": 1,
   "metadata": {},
   "outputs": [],
   "source": [
    "import requests\n",
    "import pandas as pd\n",
    "from bs4 import BeautifulSoup"
   ]
  },
  {
   "cell_type": "code",
   "execution_count": null,
   "metadata": {},
   "outputs": [],
   "source": [
    "#Task 1"
   ]
  },
  {
   "cell_type": "code",
   "execution_count": 6,
   "metadata": {},
   "outputs": [],
   "source": [
    "KEYWORDS = ['python', 'парсинг', 'delphi', 'Code']\n",
    "URL = 'https://habr.com/ru/all/'\n",
    "All_links = [] #Список всех ссылок\n",
    "Times = []     #Список даты и времени\n",
    "All_titles = []#Список заголовков"
   ]
  },
  {
   "cell_type": "code",
   "execution_count": 9,
   "metadata": {},
   "outputs": [
    {
     "data": {
      "text/html": [
       "<div>\n",
       "<style scoped>\n",
       "    .dataframe tbody tr th:only-of-type {\n",
       "        vertical-align: middle;\n",
       "    }\n",
       "\n",
       "    .dataframe tbody tr th {\n",
       "        vertical-align: top;\n",
       "    }\n",
       "\n",
       "    .dataframe thead th {\n",
       "        text-align: right;\n",
       "    }\n",
       "</style>\n",
       "<table border=\"1\" class=\"dataframe\">\n",
       "  <thead>\n",
       "    <tr style=\"text-align: right;\">\n",
       "      <th></th>\n",
       "      <th>Date &amp; Time</th>\n",
       "      <th>Title</th>\n",
       "      <th>Link</th>\n",
       "    </tr>\n",
       "  </thead>\n",
       "  <tbody>\n",
       "    <tr>\n",
       "      <th>0</th>\n",
       "      <td>сегодня в 16:06</td>\n",
       "      <td>Как оптимизировать блок проверок case</td>\n",
       "      <td>https://habr.com/ru/post/515336/</td>\n",
       "    </tr>\n",
       "    <tr>\n",
       "      <th>1</th>\n",
       "      <td>сегодня в 16:03</td>\n",
       "      <td>VKWave — фреймворк для разработки ботов ВКонтакте</td>\n",
       "      <td>https://habr.com/ru/post/515334/</td>\n",
       "    </tr>\n",
       "  </tbody>\n",
       "</table>\n",
       "</div>"
      ],
      "text/plain": [
       "       Date & Time                                              Title  \\\n",
       "0  сегодня в 16:06              Как оптимизировать блок проверок case   \n",
       "1  сегодня в 16:03  VKWave — фреймворк для разработки ботов ВКонтакте   \n",
       "\n",
       "                               Link  \n",
       "0  https://habr.com/ru/post/515336/  \n",
       "1  https://habr.com/ru/post/515334/  "
      ]
     },
     "execution_count": 9,
     "metadata": {},
     "output_type": "execute_result"
    }
   ],
   "source": [
    "res = requests.get(URL)\n",
    "soup = BeautifulSoup(res.text, 'html.parser')\n",
    "posts = soup.find_all('article', class_='post')\n",
    "\n",
    "for post in posts:\n",
    "    \n",
    "    times = post.find('span', class_='post__time')      #выделяем дату и время\n",
    "    times1 = BeautifulSoup(str(times), 'html.parser')\n",
    "    times1.span\n",
    "    \n",
    "    preview = post.find('div', class_='post__text post__text-html post__text_v1') #выделяем превью статьи\n",
    "    preview1 = BeautifulSoup(str(preview), 'html.parser')\n",
    "    preview1.div\n",
    "    preview_text = preview1.div.text\n",
    "    \n",
    "    hubs = post.find_all('h2', class_='post__title')\n",
    "    for hub in hubs:\n",
    "        link_element = hub.find('a', class_='post__title_link')\n",
    "        link = link_element.attrs.get('href')                            #выдлеляем ссылку\n",
    "        link_title = BeautifulSoup(str(link_element), 'html.parser')\n",
    "        link_title.a                                                     #выделяем заголовок\n",
    "        title = link_title.a.text\n",
    "        for kword in KEYWORDS:                                           #проверка на вхождение ключевых слов\n",
    "            if preview_text.lower().find(kword) != -1:\n",
    "                All_titles.append(title)\n",
    "                All_links.append(link)\n",
    "                Times.append(times1.span.text)\n",
    "                flag = 1\n",
    "                break\n",
    "new_data = zip(Times, All_titles, All_links)\n",
    "df = pd.DataFrame(new_data)\n",
    "df.rename(columns={0: 'Date & Time', 1: 'Title', 2: 'Link'}, inplace=True)\n",
    "df.head()"
   ]
  },
  {
   "cell_type": "code",
   "execution_count": 50,
   "metadata": {},
   "outputs": [],
   "source": []
  },
  {
   "cell_type": "code",
   "execution_count": null,
   "metadata": {},
   "outputs": [],
   "source": []
  },
  {
   "cell_type": "code",
   "execution_count": null,
   "metadata": {},
   "outputs": [],
   "source": []
  },
  {
   "cell_type": "code",
   "execution_count": null,
   "metadata": {},
   "outputs": [],
   "source": []
  },
  {
   "cell_type": "code",
   "execution_count": null,
   "metadata": {},
   "outputs": [],
   "source": []
  },
  {
   "cell_type": "code",
   "execution_count": null,
   "metadata": {},
   "outputs": [],
   "source": []
  }
 ],
 "metadata": {
  "kernelspec": {
   "display_name": "Python 3",
   "language": "python",
   "name": "python3"
  },
  "language_info": {
   "codemirror_mode": {
    "name": "ipython",
    "version": 3
   },
   "file_extension": ".py",
   "mimetype": "text/x-python",
   "name": "python",
   "nbconvert_exporter": "python",
   "pygments_lexer": "ipython3",
   "version": "3.7.6"
  }
 },
 "nbformat": 4,
 "nbformat_minor": 4
}
