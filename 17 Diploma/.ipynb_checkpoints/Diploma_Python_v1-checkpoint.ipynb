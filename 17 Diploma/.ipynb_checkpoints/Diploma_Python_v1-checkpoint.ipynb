{
 "cells": [
  {
   "cell_type": "code",
   "execution_count": 37,
   "metadata": {},
   "outputs": [],
   "source": [
    "import pandas as pd\n",
    "import numpy as np\n",
    "\n",
    "import seaborn as sns\n",
    "import matplotlib.pyplot as plt\n",
    "\n",
    "from scipy import stats\n",
    "from sklearn.model_selection import train_test_split\n",
    "from sklearn.discriminant_analysis import LinearDiscriminantAnalysis\n",
    "from sklearn.metrics import accuracy_score\n",
    "from sklearn.metrics import confusion_matrix"
   ]
  },
  {
   "cell_type": "code",
   "execution_count": 2,
   "metadata": {},
   "outputs": [],
   "source": [
    "#Part 1 ----------------------------"
   ]
  },
  {
   "cell_type": "code",
   "execution_count": 3,
   "metadata": {},
   "outputs": [
    {
     "data": {
      "text/html": [
       "<div>\n",
       "<style scoped>\n",
       "    .dataframe tbody tr th:only-of-type {\n",
       "        vertical-align: middle;\n",
       "    }\n",
       "\n",
       "    .dataframe tbody tr th {\n",
       "        vertical-align: top;\n",
       "    }\n",
       "\n",
       "    .dataframe thead th {\n",
       "        text-align: right;\n",
       "    }\n",
       "</style>\n",
       "<table border=\"1\" class=\"dataframe\">\n",
       "  <thead>\n",
       "    <tr style=\"text-align: right;\">\n",
       "      <th></th>\n",
       "      <th>satisfaction_level</th>\n",
       "      <th>last_evaluation</th>\n",
       "      <th>number_project</th>\n",
       "      <th>average_montly_hours</th>\n",
       "      <th>time_spend_company</th>\n",
       "      <th>Work_accident</th>\n",
       "      <th>left</th>\n",
       "      <th>promotion_last_5years</th>\n",
       "      <th>department</th>\n",
       "      <th>salary</th>\n",
       "    </tr>\n",
       "  </thead>\n",
       "  <tbody>\n",
       "    <tr>\n",
       "      <th>0</th>\n",
       "      <td>0.38</td>\n",
       "      <td>0.53</td>\n",
       "      <td>2</td>\n",
       "      <td>157</td>\n",
       "      <td>3</td>\n",
       "      <td>0</td>\n",
       "      <td>1</td>\n",
       "      <td>0</td>\n",
       "      <td>sales</td>\n",
       "      <td>low</td>\n",
       "    </tr>\n",
       "    <tr>\n",
       "      <th>1</th>\n",
       "      <td>0.80</td>\n",
       "      <td>0.86</td>\n",
       "      <td>5</td>\n",
       "      <td>262</td>\n",
       "      <td>6</td>\n",
       "      <td>0</td>\n",
       "      <td>1</td>\n",
       "      <td>0</td>\n",
       "      <td>sales</td>\n",
       "      <td>medium</td>\n",
       "    </tr>\n",
       "    <tr>\n",
       "      <th>2</th>\n",
       "      <td>0.11</td>\n",
       "      <td>0.88</td>\n",
       "      <td>7</td>\n",
       "      <td>272</td>\n",
       "      <td>4</td>\n",
       "      <td>0</td>\n",
       "      <td>1</td>\n",
       "      <td>0</td>\n",
       "      <td>sales</td>\n",
       "      <td>medium</td>\n",
       "    </tr>\n",
       "    <tr>\n",
       "      <th>3</th>\n",
       "      <td>0.72</td>\n",
       "      <td>0.87</td>\n",
       "      <td>5</td>\n",
       "      <td>223</td>\n",
       "      <td>5</td>\n",
       "      <td>0</td>\n",
       "      <td>1</td>\n",
       "      <td>0</td>\n",
       "      <td>sales</td>\n",
       "      <td>low</td>\n",
       "    </tr>\n",
       "    <tr>\n",
       "      <th>4</th>\n",
       "      <td>0.37</td>\n",
       "      <td>0.52</td>\n",
       "      <td>2</td>\n",
       "      <td>159</td>\n",
       "      <td>3</td>\n",
       "      <td>0</td>\n",
       "      <td>1</td>\n",
       "      <td>0</td>\n",
       "      <td>sales</td>\n",
       "      <td>low</td>\n",
       "    </tr>\n",
       "    <tr>\n",
       "      <th>5</th>\n",
       "      <td>0.41</td>\n",
       "      <td>0.50</td>\n",
       "      <td>2</td>\n",
       "      <td>153</td>\n",
       "      <td>3</td>\n",
       "      <td>0</td>\n",
       "      <td>1</td>\n",
       "      <td>0</td>\n",
       "      <td>sales</td>\n",
       "      <td>low</td>\n",
       "    </tr>\n",
       "    <tr>\n",
       "      <th>6</th>\n",
       "      <td>0.10</td>\n",
       "      <td>0.77</td>\n",
       "      <td>6</td>\n",
       "      <td>247</td>\n",
       "      <td>4</td>\n",
       "      <td>0</td>\n",
       "      <td>1</td>\n",
       "      <td>0</td>\n",
       "      <td>sales</td>\n",
       "      <td>low</td>\n",
       "    </tr>\n",
       "    <tr>\n",
       "      <th>7</th>\n",
       "      <td>0.92</td>\n",
       "      <td>0.85</td>\n",
       "      <td>5</td>\n",
       "      <td>259</td>\n",
       "      <td>5</td>\n",
       "      <td>0</td>\n",
       "      <td>1</td>\n",
       "      <td>0</td>\n",
       "      <td>sales</td>\n",
       "      <td>low</td>\n",
       "    </tr>\n",
       "    <tr>\n",
       "      <th>8</th>\n",
       "      <td>0.89</td>\n",
       "      <td>1.00</td>\n",
       "      <td>5</td>\n",
       "      <td>224</td>\n",
       "      <td>5</td>\n",
       "      <td>0</td>\n",
       "      <td>1</td>\n",
       "      <td>0</td>\n",
       "      <td>sales</td>\n",
       "      <td>low</td>\n",
       "    </tr>\n",
       "    <tr>\n",
       "      <th>9</th>\n",
       "      <td>0.42</td>\n",
       "      <td>0.53</td>\n",
       "      <td>2</td>\n",
       "      <td>142</td>\n",
       "      <td>3</td>\n",
       "      <td>0</td>\n",
       "      <td>1</td>\n",
       "      <td>0</td>\n",
       "      <td>sales</td>\n",
       "      <td>low</td>\n",
       "    </tr>\n",
       "  </tbody>\n",
       "</table>\n",
       "</div>"
      ],
      "text/plain": [
       "   satisfaction_level  last_evaluation  number_project  average_montly_hours  \\\n",
       "0                0.38             0.53               2                   157   \n",
       "1                0.80             0.86               5                   262   \n",
       "2                0.11             0.88               7                   272   \n",
       "3                0.72             0.87               5                   223   \n",
       "4                0.37             0.52               2                   159   \n",
       "5                0.41             0.50               2                   153   \n",
       "6                0.10             0.77               6                   247   \n",
       "7                0.92             0.85               5                   259   \n",
       "8                0.89             1.00               5                   224   \n",
       "9                0.42             0.53               2                   142   \n",
       "\n",
       "   time_spend_company  Work_accident  left  promotion_last_5years department  \\\n",
       "0                   3              0     1                      0      sales   \n",
       "1                   6              0     1                      0      sales   \n",
       "2                   4              0     1                      0      sales   \n",
       "3                   5              0     1                      0      sales   \n",
       "4                   3              0     1                      0      sales   \n",
       "5                   3              0     1                      0      sales   \n",
       "6                   4              0     1                      0      sales   \n",
       "7                   5              0     1                      0      sales   \n",
       "8                   5              0     1                      0      sales   \n",
       "9                   3              0     1                      0      sales   \n",
       "\n",
       "   salary  \n",
       "0     low  \n",
       "1  medium  \n",
       "2  medium  \n",
       "3     low  \n",
       "4     low  \n",
       "5     low  \n",
       "6     low  \n",
       "7     low  \n",
       "8     low  \n",
       "9     low  "
      ]
     },
     "execution_count": 3,
     "metadata": {},
     "output_type": "execute_result"
    }
   ],
   "source": [
    "hr = pd.read_csv('hr.csv')\n",
    "hr.head(10)"
   ]
  },
  {
   "cell_type": "code",
   "execution_count": null,
   "metadata": {},
   "outputs": [],
   "source": [
    "#Part 2 --------------------"
   ]
  },
  {
   "cell_type": "code",
   "execution_count": 4,
   "metadata": {},
   "outputs": [
    {
     "data": {
      "text/html": [
       "<div>\n",
       "<style scoped>\n",
       "    .dataframe tbody tr th:only-of-type {\n",
       "        vertical-align: middle;\n",
       "    }\n",
       "\n",
       "    .dataframe tbody tr th {\n",
       "        vertical-align: top;\n",
       "    }\n",
       "\n",
       "    .dataframe thead th {\n",
       "        text-align: right;\n",
       "    }\n",
       "</style>\n",
       "<table border=\"1\" class=\"dataframe\">\n",
       "  <thead>\n",
       "    <tr style=\"text-align: right;\">\n",
       "      <th></th>\n",
       "      <th>satisfaction_level</th>\n",
       "      <th>last_evaluation</th>\n",
       "      <th>number_project</th>\n",
       "      <th>average_montly_hours</th>\n",
       "      <th>time_spend_company</th>\n",
       "      <th>Work_accident</th>\n",
       "      <th>left</th>\n",
       "      <th>promotion_last_5years</th>\n",
       "    </tr>\n",
       "  </thead>\n",
       "  <tbody>\n",
       "    <tr>\n",
       "      <th>mean</th>\n",
       "      <td>0.612834</td>\n",
       "      <td>0.716102</td>\n",
       "      <td>3.803054</td>\n",
       "      <td>201.050337</td>\n",
       "      <td>3.498233</td>\n",
       "      <td>0.144610</td>\n",
       "      <td>0.238083</td>\n",
       "      <td>0.021268</td>\n",
       "    </tr>\n",
       "    <tr>\n",
       "      <th>std</th>\n",
       "      <td>0.248631</td>\n",
       "      <td>0.171169</td>\n",
       "      <td>1.232592</td>\n",
       "      <td>49.943099</td>\n",
       "      <td>1.460136</td>\n",
       "      <td>0.351719</td>\n",
       "      <td>0.425924</td>\n",
       "      <td>0.144281</td>\n",
       "    </tr>\n",
       "    <tr>\n",
       "      <th>min</th>\n",
       "      <td>0.090000</td>\n",
       "      <td>0.360000</td>\n",
       "      <td>2.000000</td>\n",
       "      <td>96.000000</td>\n",
       "      <td>2.000000</td>\n",
       "      <td>0.000000</td>\n",
       "      <td>0.000000</td>\n",
       "      <td>0.000000</td>\n",
       "    </tr>\n",
       "    <tr>\n",
       "      <th>mediana</th>\n",
       "      <td>0.640000</td>\n",
       "      <td>0.720000</td>\n",
       "      <td>4.000000</td>\n",
       "      <td>200.000000</td>\n",
       "      <td>3.000000</td>\n",
       "      <td>0.000000</td>\n",
       "      <td>0.000000</td>\n",
       "      <td>0.000000</td>\n",
       "    </tr>\n",
       "    <tr>\n",
       "      <th>max</th>\n",
       "      <td>1.000000</td>\n",
       "      <td>1.000000</td>\n",
       "      <td>7.000000</td>\n",
       "      <td>310.000000</td>\n",
       "      <td>10.000000</td>\n",
       "      <td>1.000000</td>\n",
       "      <td>1.000000</td>\n",
       "      <td>1.000000</td>\n",
       "    </tr>\n",
       "    <tr>\n",
       "      <th>moda</th>\n",
       "      <td>0.100000</td>\n",
       "      <td>0.550000</td>\n",
       "      <td>4.000000</td>\n",
       "      <td>135.000000</td>\n",
       "      <td>3.000000</td>\n",
       "      <td>0.000000</td>\n",
       "      <td>0.000000</td>\n",
       "      <td>0.000000</td>\n",
       "    </tr>\n",
       "  </tbody>\n",
       "</table>\n",
       "</div>"
      ],
      "text/plain": [
       "         satisfaction_level  last_evaluation  number_project  \\\n",
       "mean               0.612834         0.716102        3.803054   \n",
       "std                0.248631         0.171169        1.232592   \n",
       "min                0.090000         0.360000        2.000000   \n",
       "mediana            0.640000         0.720000        4.000000   \n",
       "max                1.000000         1.000000        7.000000   \n",
       "moda               0.100000         0.550000        4.000000   \n",
       "\n",
       "         average_montly_hours  time_spend_company  Work_accident      left  \\\n",
       "mean               201.050337            3.498233       0.144610  0.238083   \n",
       "std                 49.943099            1.460136       0.351719  0.425924   \n",
       "min                 96.000000            2.000000       0.000000  0.000000   \n",
       "mediana            200.000000            3.000000       0.000000  0.000000   \n",
       "max                310.000000           10.000000       1.000000  1.000000   \n",
       "moda               135.000000            3.000000       0.000000  0.000000   \n",
       "\n",
       "         promotion_last_5years  \n",
       "mean                  0.021268  \n",
       "std                   0.144281  \n",
       "min                   0.000000  \n",
       "mediana               0.000000  \n",
       "max                   1.000000  \n",
       "moda                  0.000000  "
      ]
     },
     "execution_count": 4,
     "metadata": {},
     "output_type": "execute_result"
    }
   ],
   "source": [
    "df_stats = hr.describe()\n",
    "df_stats = pd.concat([df_stats, hr.mode(axis=0, numeric_only=True)])\n",
    "df_stats.drop(df_stats.index[[0, 4, 6, 9]], inplace=True)\n",
    "df_stats.index = ['mean', 'std', 'min', 'mediana', 'max', 'moda']\n",
    "df_stats"
   ]
  },
  {
   "cell_type": "code",
   "execution_count": 76,
   "metadata": {},
   "outputs": [
    {
     "data": {
      "text/html": [
       "<style  type=\"text/css\" >\n",
       "    #T_47eca62c_0959_11eb_bdf0_f5cc3f94e11frow0_col0 {\n",
       "            background-color:  #b40426;\n",
       "            color:  #f1f1f1;\n",
       "        }    #T_47eca62c_0959_11eb_bdf0_f5cc3f94e11frow0_col1 {\n",
       "            background-color:  #5d7ce6;\n",
       "            color:  #000000;\n",
       "        }    #T_47eca62c_0959_11eb_bdf0_f5cc3f94e11frow0_col2 {\n",
       "            background-color:  #3b4cc0;\n",
       "            color:  #f1f1f1;\n",
       "        }    #T_47eca62c_0959_11eb_bdf0_f5cc3f94e11frow0_col3 {\n",
       "            background-color:  #3b4cc0;\n",
       "            color:  #f1f1f1;\n",
       "        }    #T_47eca62c_0959_11eb_bdf0_f5cc3f94e11frow0_col4 {\n",
       "            background-color:  #3b4cc0;\n",
       "            color:  #f1f1f1;\n",
       "        }    #T_47eca62c_0959_11eb_bdf0_f5cc3f94e11frow0_col5 {\n",
       "            background-color:  #7699f6;\n",
       "            color:  #000000;\n",
       "        }    #T_47eca62c_0959_11eb_bdf0_f5cc3f94e11frow0_col6 {\n",
       "            background-color:  #3b4cc0;\n",
       "            color:  #f1f1f1;\n",
       "        }    #T_47eca62c_0959_11eb_bdf0_f5cc3f94e11frow0_col7 {\n",
       "            background-color:  #5470de;\n",
       "            color:  #000000;\n",
       "        }    #T_47eca62c_0959_11eb_bdf0_f5cc3f94e11frow1_col0 {\n",
       "            background-color:  #b1cbfc;\n",
       "            color:  #000000;\n",
       "        }    #T_47eca62c_0959_11eb_bdf0_f5cc3f94e11frow1_col1 {\n",
       "            background-color:  #b40426;\n",
       "            color:  #f1f1f1;\n",
       "        }    #T_47eca62c_0959_11eb_bdf0_f5cc3f94e11frow1_col2 {\n",
       "            background-color:  #cad8ef;\n",
       "            color:  #000000;\n",
       "        }    #T_47eca62c_0959_11eb_bdf0_f5cc3f94e11frow1_col3 {\n",
       "            background-color:  #b1cbfc;\n",
       "            color:  #000000;\n",
       "        }    #T_47eca62c_0959_11eb_bdf0_f5cc3f94e11frow1_col4 {\n",
       "            background-color:  #80a3fa;\n",
       "            color:  #000000;\n",
       "        }    #T_47eca62c_0959_11eb_bdf0_f5cc3f94e11frow1_col5 {\n",
       "            background-color:  #6282ea;\n",
       "            color:  #000000;\n",
       "        }    #T_47eca62c_0959_11eb_bdf0_f5cc3f94e11frow1_col6 {\n",
       "            background-color:  #98b9ff;\n",
       "            color:  #000000;\n",
       "        }    #T_47eca62c_0959_11eb_bdf0_f5cc3f94e11frow1_col7 {\n",
       "            background-color:  #4961d2;\n",
       "            color:  #f1f1f1;\n",
       "        }    #T_47eca62c_0959_11eb_bdf0_f5cc3f94e11frow2_col0 {\n",
       "            background-color:  #7396f5;\n",
       "            color:  #000000;\n",
       "        }    #T_47eca62c_0959_11eb_bdf0_f5cc3f94e11frow2_col1 {\n",
       "            background-color:  #b1cbfc;\n",
       "            color:  #000000;\n",
       "        }    #T_47eca62c_0959_11eb_bdf0_f5cc3f94e11frow2_col2 {\n",
       "            background-color:  #b40426;\n",
       "            color:  #f1f1f1;\n",
       "        }    #T_47eca62c_0959_11eb_bdf0_f5cc3f94e11frow2_col3 {\n",
       "            background-color:  #c9d7f0;\n",
       "            color:  #000000;\n",
       "        }    #T_47eca62c_0959_11eb_bdf0_f5cc3f94e11frow2_col4 {\n",
       "            background-color:  #94b6ff;\n",
       "            color:  #000000;\n",
       "        }    #T_47eca62c_0959_11eb_bdf0_f5cc3f94e11frow2_col5 {\n",
       "            background-color:  #6384eb;\n",
       "            color:  #000000;\n",
       "        }    #T_47eca62c_0959_11eb_bdf0_f5cc3f94e11frow2_col6 {\n",
       "            background-color:  #9dbdff;\n",
       "            color:  #000000;\n",
       "        }    #T_47eca62c_0959_11eb_bdf0_f5cc3f94e11frow2_col7 {\n",
       "            background-color:  #4a63d3;\n",
       "            color:  #f1f1f1;\n",
       "        }    #T_47eca62c_0959_11eb_bdf0_f5cc3f94e11frow3_col0 {\n",
       "            background-color:  #92b4fe;\n",
       "            color:  #000000;\n",
       "        }    #T_47eca62c_0959_11eb_bdf0_f5cc3f94e11frow3_col1 {\n",
       "            background-color:  #aec9fc;\n",
       "            color:  #000000;\n",
       "        }    #T_47eca62c_0959_11eb_bdf0_f5cc3f94e11frow3_col2 {\n",
       "            background-color:  #dadce0;\n",
       "            color:  #000000;\n",
       "        }    #T_47eca62c_0959_11eb_bdf0_f5cc3f94e11frow3_col3 {\n",
       "            background-color:  #b40426;\n",
       "            color:  #f1f1f1;\n",
       "        }    #T_47eca62c_0959_11eb_bdf0_f5cc3f94e11frow3_col4 {\n",
       "            background-color:  #7ea1fa;\n",
       "            color:  #000000;\n",
       "        }    #T_47eca62c_0959_11eb_bdf0_f5cc3f94e11frow3_col5 {\n",
       "            background-color:  #6282ea;\n",
       "            color:  #000000;\n",
       "        }    #T_47eca62c_0959_11eb_bdf0_f5cc3f94e11frow3_col6 {\n",
       "            background-color:  #a9c6fd;\n",
       "            color:  #000000;\n",
       "        }    #T_47eca62c_0959_11eb_bdf0_f5cc3f94e11frow3_col7 {\n",
       "            background-color:  #4b64d5;\n",
       "            color:  #f1f1f1;\n",
       "        }    #T_47eca62c_0959_11eb_bdf0_f5cc3f94e11frow4_col0 {\n",
       "            background-color:  #7ea1fa;\n",
       "            color:  #000000;\n",
       "        }    #T_47eca62c_0959_11eb_bdf0_f5cc3f94e11frow4_col1 {\n",
       "            background-color:  #6687ed;\n",
       "            color:  #000000;\n",
       "        }    #T_47eca62c_0959_11eb_bdf0_f5cc3f94e11frow4_col2 {\n",
       "            background-color:  #9ebeff;\n",
       "            color:  #000000;\n",
       "        }    #T_47eca62c_0959_11eb_bdf0_f5cc3f94e11frow4_col3 {\n",
       "            background-color:  #688aef;\n",
       "            color:  #000000;\n",
       "        }    #T_47eca62c_0959_11eb_bdf0_f5cc3f94e11frow4_col4 {\n",
       "            background-color:  #b40426;\n",
       "            color:  #f1f1f1;\n",
       "        }    #T_47eca62c_0959_11eb_bdf0_f5cc3f94e11frow4_col5 {\n",
       "            background-color:  #6485ec;\n",
       "            color:  #000000;\n",
       "        }    #T_47eca62c_0959_11eb_bdf0_f5cc3f94e11frow4_col6 {\n",
       "            background-color:  #bbd1f8;\n",
       "            color:  #000000;\n",
       "        }    #T_47eca62c_0959_11eb_bdf0_f5cc3f94e11frow4_col7 {\n",
       "            background-color:  #6180e9;\n",
       "            color:  #000000;\n",
       "        }    #T_47eca62c_0959_11eb_bdf0_f5cc3f94e11frow5_col0 {\n",
       "            background-color:  #a6c4fe;\n",
       "            color:  #000000;\n",
       "        }    #T_47eca62c_0959_11eb_bdf0_f5cc3f94e11frow5_col1 {\n",
       "            background-color:  #3b4cc0;\n",
       "            color:  #f1f1f1;\n",
       "        }    #T_47eca62c_0959_11eb_bdf0_f5cc3f94e11frow5_col2 {\n",
       "            background-color:  #5f7fe8;\n",
       "            color:  #000000;\n",
       "        }    #T_47eca62c_0959_11eb_bdf0_f5cc3f94e11frow5_col3 {\n",
       "            background-color:  #3d50c3;\n",
       "            color:  #f1f1f1;\n",
       "        }    #T_47eca62c_0959_11eb_bdf0_f5cc3f94e11frow5_col4 {\n",
       "            background-color:  #5673e0;\n",
       "            color:  #000000;\n",
       "        }    #T_47eca62c_0959_11eb_bdf0_f5cc3f94e11frow5_col5 {\n",
       "            background-color:  #b40426;\n",
       "            color:  #f1f1f1;\n",
       "        }    #T_47eca62c_0959_11eb_bdf0_f5cc3f94e11frow5_col6 {\n",
       "            background-color:  #7093f3;\n",
       "            color:  #000000;\n",
       "        }    #T_47eca62c_0959_11eb_bdf0_f5cc3f94e11frow5_col7 {\n",
       "            background-color:  #5875e1;\n",
       "            color:  #000000;\n",
       "        }    #T_47eca62c_0959_11eb_bdf0_f5cc3f94e11frow6_col0 {\n",
       "            background-color:  #3b4cc0;\n",
       "            color:  #f1f1f1;\n",
       "        }    #T_47eca62c_0959_11eb_bdf0_f5cc3f94e11frow6_col1 {\n",
       "            background-color:  #3e51c5;\n",
       "            color:  #f1f1f1;\n",
       "        }    #T_47eca62c_0959_11eb_bdf0_f5cc3f94e11frow6_col2 {\n",
       "            background-color:  #688aef;\n",
       "            color:  #000000;\n",
       "        }    #T_47eca62c_0959_11eb_bdf0_f5cc3f94e11frow6_col3 {\n",
       "            background-color:  #5572df;\n",
       "            color:  #000000;\n",
       "        }    #T_47eca62c_0959_11eb_bdf0_f5cc3f94e11frow6_col4 {\n",
       "            background-color:  #84a7fc;\n",
       "            color:  #000000;\n",
       "        }    #T_47eca62c_0959_11eb_bdf0_f5cc3f94e11frow6_col5 {\n",
       "            background-color:  #3b4cc0;\n",
       "            color:  #f1f1f1;\n",
       "        }    #T_47eca62c_0959_11eb_bdf0_f5cc3f94e11frow6_col6 {\n",
       "            background-color:  #b40426;\n",
       "            color:  #f1f1f1;\n",
       "        }    #T_47eca62c_0959_11eb_bdf0_f5cc3f94e11frow6_col7 {\n",
       "            background-color:  #3b4cc0;\n",
       "            color:  #f1f1f1;\n",
       "        }    #T_47eca62c_0959_11eb_bdf0_f5cc3f94e11frow7_col0 {\n",
       "            background-color:  #9ebeff;\n",
       "            color:  #000000;\n",
       "        }    #T_47eca62c_0959_11eb_bdf0_f5cc3f94e11frow7_col1 {\n",
       "            background-color:  #3b4cc0;\n",
       "            color:  #f1f1f1;\n",
       "        }    #T_47eca62c_0959_11eb_bdf0_f5cc3f94e11frow7_col2 {\n",
       "            background-color:  #5f7fe8;\n",
       "            color:  #000000;\n",
       "        }    #T_47eca62c_0959_11eb_bdf0_f5cc3f94e11frow7_col3 {\n",
       "            background-color:  #3f53c6;\n",
       "            color:  #f1f1f1;\n",
       "        }    #T_47eca62c_0959_11eb_bdf0_f5cc3f94e11frow7_col4 {\n",
       "            background-color:  #6b8df0;\n",
       "            color:  #000000;\n",
       "        }    #T_47eca62c_0959_11eb_bdf0_f5cc3f94e11frow7_col5 {\n",
       "            background-color:  #6f92f3;\n",
       "            color:  #000000;\n",
       "        }    #T_47eca62c_0959_11eb_bdf0_f5cc3f94e11frow7_col6 {\n",
       "            background-color:  #88abfd;\n",
       "            color:  #000000;\n",
       "        }    #T_47eca62c_0959_11eb_bdf0_f5cc3f94e11frow7_col7 {\n",
       "            background-color:  #b40426;\n",
       "            color:  #f1f1f1;\n",
       "        }</style><table id=\"T_47eca62c_0959_11eb_bdf0_f5cc3f94e11f\" ><thead>    <tr>        <th class=\"blank level0\" ></th>        <th class=\"col_heading level0 col0\" >satisfaction_level</th>        <th class=\"col_heading level0 col1\" >last_evaluation</th>        <th class=\"col_heading level0 col2\" >number_project</th>        <th class=\"col_heading level0 col3\" >average_montly_hours</th>        <th class=\"col_heading level0 col4\" >time_spend_company</th>        <th class=\"col_heading level0 col5\" >Work_accident</th>        <th class=\"col_heading level0 col6\" >left</th>        <th class=\"col_heading level0 col7\" >promotion_last_5years</th>    </tr></thead><tbody>\n",
       "                <tr>\n",
       "                        <th id=\"T_47eca62c_0959_11eb_bdf0_f5cc3f94e11flevel0_row0\" class=\"row_heading level0 row0\" >satisfaction_level</th>\n",
       "                        <td id=\"T_47eca62c_0959_11eb_bdf0_f5cc3f94e11frow0_col0\" class=\"data row0 col0\" >1.0000</td>\n",
       "                        <td id=\"T_47eca62c_0959_11eb_bdf0_f5cc3f94e11frow0_col1\" class=\"data row0 col1\" >0.1050</td>\n",
       "                        <td id=\"T_47eca62c_0959_11eb_bdf0_f5cc3f94e11frow0_col2\" class=\"data row0 col2\" >-0.1430</td>\n",
       "                        <td id=\"T_47eca62c_0959_11eb_bdf0_f5cc3f94e11frow0_col3\" class=\"data row0 col3\" >-0.0200</td>\n",
       "                        <td id=\"T_47eca62c_0959_11eb_bdf0_f5cc3f94e11frow0_col4\" class=\"data row0 col4\" >-0.1009</td>\n",
       "                        <td id=\"T_47eca62c_0959_11eb_bdf0_f5cc3f94e11frow0_col5\" class=\"data row0 col5\" >0.0587</td>\n",
       "                        <td id=\"T_47eca62c_0959_11eb_bdf0_f5cc3f94e11frow0_col6\" class=\"data row0 col6\" >-0.3884</td>\n",
       "                        <td id=\"T_47eca62c_0959_11eb_bdf0_f5cc3f94e11frow0_col7\" class=\"data row0 col7\" >0.0256</td>\n",
       "            </tr>\n",
       "            <tr>\n",
       "                        <th id=\"T_47eca62c_0959_11eb_bdf0_f5cc3f94e11flevel0_row1\" class=\"row_heading level0 row1\" >last_evaluation</th>\n",
       "                        <td id=\"T_47eca62c_0959_11eb_bdf0_f5cc3f94e11frow1_col0\" class=\"data row1 col0\" >0.1050</td>\n",
       "                        <td id=\"T_47eca62c_0959_11eb_bdf0_f5cc3f94e11frow1_col1\" class=\"data row1 col1\" >1.0000</td>\n",
       "                        <td id=\"T_47eca62c_0959_11eb_bdf0_f5cc3f94e11frow1_col2\" class=\"data row1 col2\" >0.3493</td>\n",
       "                        <td id=\"T_47eca62c_0959_11eb_bdf0_f5cc3f94e11frow1_col3\" class=\"data row1 col3\" >0.3397</td>\n",
       "                        <td id=\"T_47eca62c_0959_11eb_bdf0_f5cc3f94e11frow1_col4\" class=\"data row1 col4\" >0.1316</td>\n",
       "                        <td id=\"T_47eca62c_0959_11eb_bdf0_f5cc3f94e11frow1_col5\" class=\"data row1 col5\" >-0.0071</td>\n",
       "                        <td id=\"T_47eca62c_0959_11eb_bdf0_f5cc3f94e11frow1_col6\" class=\"data row1 col6\" >0.0066</td>\n",
       "                        <td id=\"T_47eca62c_0959_11eb_bdf0_f5cc3f94e11frow1_col7\" class=\"data row1 col7\" >-0.0087</td>\n",
       "            </tr>\n",
       "            <tr>\n",
       "                        <th id=\"T_47eca62c_0959_11eb_bdf0_f5cc3f94e11flevel0_row2\" class=\"row_heading level0 row2\" >number_project</th>\n",
       "                        <td id=\"T_47eca62c_0959_11eb_bdf0_f5cc3f94e11frow2_col0\" class=\"data row2 col0\" >-0.1430</td>\n",
       "                        <td id=\"T_47eca62c_0959_11eb_bdf0_f5cc3f94e11frow2_col1\" class=\"data row2 col1\" >0.3493</td>\n",
       "                        <td id=\"T_47eca62c_0959_11eb_bdf0_f5cc3f94e11frow2_col2\" class=\"data row2 col2\" >1.0000</td>\n",
       "                        <td id=\"T_47eca62c_0959_11eb_bdf0_f5cc3f94e11frow2_col3\" class=\"data row2 col3\" >0.4172</td>\n",
       "                        <td id=\"T_47eca62c_0959_11eb_bdf0_f5cc3f94e11frow2_col4\" class=\"data row2 col4\" >0.1968</td>\n",
       "                        <td id=\"T_47eca62c_0959_11eb_bdf0_f5cc3f94e11frow2_col5\" class=\"data row2 col5\" >-0.0047</td>\n",
       "                        <td id=\"T_47eca62c_0959_11eb_bdf0_f5cc3f94e11frow2_col6\" class=\"data row2 col6\" >0.0238</td>\n",
       "                        <td id=\"T_47eca62c_0959_11eb_bdf0_f5cc3f94e11frow2_col7\" class=\"data row2 col7\" >-0.0061</td>\n",
       "            </tr>\n",
       "            <tr>\n",
       "                        <th id=\"T_47eca62c_0959_11eb_bdf0_f5cc3f94e11flevel0_row3\" class=\"row_heading level0 row3\" >average_montly_hours</th>\n",
       "                        <td id=\"T_47eca62c_0959_11eb_bdf0_f5cc3f94e11frow3_col0\" class=\"data row3 col0\" >-0.0200</td>\n",
       "                        <td id=\"T_47eca62c_0959_11eb_bdf0_f5cc3f94e11frow3_col1\" class=\"data row3 col1\" >0.3397</td>\n",
       "                        <td id=\"T_47eca62c_0959_11eb_bdf0_f5cc3f94e11frow3_col2\" class=\"data row3 col2\" >0.4172</td>\n",
       "                        <td id=\"T_47eca62c_0959_11eb_bdf0_f5cc3f94e11frow3_col3\" class=\"data row3 col3\" >1.0000</td>\n",
       "                        <td id=\"T_47eca62c_0959_11eb_bdf0_f5cc3f94e11frow3_col4\" class=\"data row3 col4\" >0.1278</td>\n",
       "                        <td id=\"T_47eca62c_0959_11eb_bdf0_f5cc3f94e11frow3_col5\" class=\"data row3 col5\" >-0.0101</td>\n",
       "                        <td id=\"T_47eca62c_0959_11eb_bdf0_f5cc3f94e11frow3_col6\" class=\"data row3 col6\" >0.0713</td>\n",
       "                        <td id=\"T_47eca62c_0959_11eb_bdf0_f5cc3f94e11frow3_col7\" class=\"data row3 col7\" >-0.0035</td>\n",
       "            </tr>\n",
       "            <tr>\n",
       "                        <th id=\"T_47eca62c_0959_11eb_bdf0_f5cc3f94e11flevel0_row4\" class=\"row_heading level0 row4\" >time_spend_company</th>\n",
       "                        <td id=\"T_47eca62c_0959_11eb_bdf0_f5cc3f94e11frow4_col0\" class=\"data row4 col0\" >-0.1009</td>\n",
       "                        <td id=\"T_47eca62c_0959_11eb_bdf0_f5cc3f94e11frow4_col1\" class=\"data row4 col1\" >0.1316</td>\n",
       "                        <td id=\"T_47eca62c_0959_11eb_bdf0_f5cc3f94e11frow4_col2\" class=\"data row4 col2\" >0.1968</td>\n",
       "                        <td id=\"T_47eca62c_0959_11eb_bdf0_f5cc3f94e11frow4_col3\" class=\"data row4 col3\" >0.1278</td>\n",
       "                        <td id=\"T_47eca62c_0959_11eb_bdf0_f5cc3f94e11frow4_col4\" class=\"data row4 col4\" >1.0000</td>\n",
       "                        <td id=\"T_47eca62c_0959_11eb_bdf0_f5cc3f94e11frow4_col5\" class=\"data row4 col5\" >0.0021</td>\n",
       "                        <td id=\"T_47eca62c_0959_11eb_bdf0_f5cc3f94e11frow4_col6\" class=\"data row4 col6\" >0.1448</td>\n",
       "                        <td id=\"T_47eca62c_0959_11eb_bdf0_f5cc3f94e11frow4_col7\" class=\"data row4 col7\" >0.0674</td>\n",
       "            </tr>\n",
       "            <tr>\n",
       "                        <th id=\"T_47eca62c_0959_11eb_bdf0_f5cc3f94e11flevel0_row5\" class=\"row_heading level0 row5\" >Work_accident</th>\n",
       "                        <td id=\"T_47eca62c_0959_11eb_bdf0_f5cc3f94e11frow5_col0\" class=\"data row5 col0\" >0.0587</td>\n",
       "                        <td id=\"T_47eca62c_0959_11eb_bdf0_f5cc3f94e11frow5_col1\" class=\"data row5 col1\" >-0.0071</td>\n",
       "                        <td id=\"T_47eca62c_0959_11eb_bdf0_f5cc3f94e11frow5_col2\" class=\"data row5 col2\" >-0.0047</td>\n",
       "                        <td id=\"T_47eca62c_0959_11eb_bdf0_f5cc3f94e11frow5_col3\" class=\"data row5 col3\" >-0.0101</td>\n",
       "                        <td id=\"T_47eca62c_0959_11eb_bdf0_f5cc3f94e11frow5_col4\" class=\"data row5 col4\" >0.0021</td>\n",
       "                        <td id=\"T_47eca62c_0959_11eb_bdf0_f5cc3f94e11frow5_col5\" class=\"data row5 col5\" >1.0000</td>\n",
       "                        <td id=\"T_47eca62c_0959_11eb_bdf0_f5cc3f94e11frow5_col6\" class=\"data row5 col6\" >-0.1546</td>\n",
       "                        <td id=\"T_47eca62c_0959_11eb_bdf0_f5cc3f94e11frow5_col7\" class=\"data row5 col7\" >0.0392</td>\n",
       "            </tr>\n",
       "            <tr>\n",
       "                        <th id=\"T_47eca62c_0959_11eb_bdf0_f5cc3f94e11flevel0_row6\" class=\"row_heading level0 row6\" >left</th>\n",
       "                        <td id=\"T_47eca62c_0959_11eb_bdf0_f5cc3f94e11frow6_col0\" class=\"data row6 col0\" >-0.3884</td>\n",
       "                        <td id=\"T_47eca62c_0959_11eb_bdf0_f5cc3f94e11frow6_col1\" class=\"data row6 col1\" >0.0066</td>\n",
       "                        <td id=\"T_47eca62c_0959_11eb_bdf0_f5cc3f94e11frow6_col2\" class=\"data row6 col2\" >0.0238</td>\n",
       "                        <td id=\"T_47eca62c_0959_11eb_bdf0_f5cc3f94e11frow6_col3\" class=\"data row6 col3\" >0.0713</td>\n",
       "                        <td id=\"T_47eca62c_0959_11eb_bdf0_f5cc3f94e11frow6_col4\" class=\"data row6 col4\" >0.1448</td>\n",
       "                        <td id=\"T_47eca62c_0959_11eb_bdf0_f5cc3f94e11frow6_col5\" class=\"data row6 col5\" >-0.1546</td>\n",
       "                        <td id=\"T_47eca62c_0959_11eb_bdf0_f5cc3f94e11frow6_col6\" class=\"data row6 col6\" >1.0000</td>\n",
       "                        <td id=\"T_47eca62c_0959_11eb_bdf0_f5cc3f94e11frow6_col7\" class=\"data row6 col7\" >-0.0618</td>\n",
       "            </tr>\n",
       "            <tr>\n",
       "                        <th id=\"T_47eca62c_0959_11eb_bdf0_f5cc3f94e11flevel0_row7\" class=\"row_heading level0 row7\" >promotion_last_5years</th>\n",
       "                        <td id=\"T_47eca62c_0959_11eb_bdf0_f5cc3f94e11frow7_col0\" class=\"data row7 col0\" >0.0256</td>\n",
       "                        <td id=\"T_47eca62c_0959_11eb_bdf0_f5cc3f94e11frow7_col1\" class=\"data row7 col1\" >-0.0087</td>\n",
       "                        <td id=\"T_47eca62c_0959_11eb_bdf0_f5cc3f94e11frow7_col2\" class=\"data row7 col2\" >-0.0061</td>\n",
       "                        <td id=\"T_47eca62c_0959_11eb_bdf0_f5cc3f94e11frow7_col3\" class=\"data row7 col3\" >-0.0035</td>\n",
       "                        <td id=\"T_47eca62c_0959_11eb_bdf0_f5cc3f94e11frow7_col4\" class=\"data row7 col4\" >0.0674</td>\n",
       "                        <td id=\"T_47eca62c_0959_11eb_bdf0_f5cc3f94e11frow7_col5\" class=\"data row7 col5\" >0.0392</td>\n",
       "                        <td id=\"T_47eca62c_0959_11eb_bdf0_f5cc3f94e11frow7_col6\" class=\"data row7 col6\" >-0.0618</td>\n",
       "                        <td id=\"T_47eca62c_0959_11eb_bdf0_f5cc3f94e11frow7_col7\" class=\"data row7 col7\" >1.0000</td>\n",
       "            </tr>\n",
       "    </tbody></table>"
      ],
      "text/plain": [
       "<pandas.io.formats.style.Styler at 0x56be8c8>"
      ]
     },
     "execution_count": 76,
     "metadata": {},
     "output_type": "execute_result"
    }
   ],
   "source": [
    "#Part 3 ----------------------\n",
    "corr = hr.corr()\n",
    "corr.style.background_gradient(cmap='coolwarm').set_precision(4)"
   ]
  },
  {
   "cell_type": "code",
   "execution_count": 86,
   "metadata": {},
   "outputs": [
    {
     "name": "stdout",
     "output_type": "stream",
     "text": [
      "Самая скоррелированная пара: average_montly_hours и number_project\n",
      "Вторая по скоррелированности пара: left и satisfaction_level\n"
     ]
    }
   ],
   "source": [
    "corr_max = abs(corr - np.eye(8))\n",
    "max_ = corr_max.max().sort_values(ascending=False)\n",
    "print(f'Самая скоррелированная пара: {max_.index[0]} и {max_.index[1]}')\n",
    "print(f'Вторая по скоррелированности пара: {max_.index[2]} и {max_.index[3]}')"
   ]
  },
  {
   "cell_type": "code",
   "execution_count": 87,
   "metadata": {},
   "outputs": [
    {
     "name": "stdout",
     "output_type": "stream",
     "text": [
      "Наименее скоррелированная пара: time_spend_company и Work_accident\n",
      "Вторая наименее скоррелированная пара: average_montly_hours и promotion_last_5years\n"
     ]
    }
   ],
   "source": [
    "corr_min = abs(corr)\n",
    "min_ = corr_min.min().sort_values(ascending=True)\n",
    "print(f'Наименее скоррелированная пара: {min_.index[0]} и {min_.index[1]}')\n",
    "print(f'Вторая наименее скоррелированная пара: {min_.index[2]} и {min_.index[3]}')"
   ]
  },
  {
   "cell_type": "code",
   "execution_count": 6,
   "metadata": {},
   "outputs": [
    {
     "data": {
      "text/plain": [
       "<matplotlib.axes._subplots.AxesSubplot at 0xb992088>"
      ]
     },
     "execution_count": 6,
     "metadata": {},
     "output_type": "execute_result"
    },
    {
     "data": {
      "image/png": "[encoded data removed]",
      "text/plain": [
       "<Figure size 432x288 with 2 Axes>"
      ]
     },
     "metadata": {
      "needs_background": "light"
     },
     "output_type": "display_data"
    }
   ],
   "source": [
    "sns.heatmap(corr, xticklabels=corr.columns, yticklabels=corr.columns)"
   ]
  },
  {
   "cell_type": "code",
   "execution_count": 17,
   "metadata": {},
   "outputs": [],
   "source": [
    "# Part 4------------------------------------------------------------"
   ]
  },
  {
   "cell_type": "code",
   "execution_count": 9,
   "metadata": {},
   "outputs": [
    {
     "data": {
      "text/html": [
       "<div>\n",
       "<style scoped>\n",
       "    .dataframe tbody tr th:only-of-type {\n",
       "        vertical-align: middle;\n",
       "    }\n",
       "\n",
       "    .dataframe tbody tr th {\n",
       "        vertical-align: top;\n",
       "    }\n",
       "\n",
       "    .dataframe thead th {\n",
       "        text-align: right;\n",
       "    }\n",
       "</style>\n",
       "<table border=\"1\" class=\"dataframe\">\n",
       "  <thead>\n",
       "    <tr style=\"text-align: right;\">\n",
       "      <th></th>\n",
       "      <th>department</th>\n",
       "      <th>employee_qty</th>\n",
       "    </tr>\n",
       "  </thead>\n",
       "  <tbody>\n",
       "    <tr>\n",
       "      <th>0</th>\n",
       "      <td>IT</td>\n",
       "      <td>1227</td>\n",
       "    </tr>\n",
       "    <tr>\n",
       "      <th>1</th>\n",
       "      <td>RandD</td>\n",
       "      <td>787</td>\n",
       "    </tr>\n",
       "    <tr>\n",
       "      <th>2</th>\n",
       "      <td>accounting</td>\n",
       "      <td>767</td>\n",
       "    </tr>\n",
       "    <tr>\n",
       "      <th>3</th>\n",
       "      <td>hr</td>\n",
       "      <td>739</td>\n",
       "    </tr>\n",
       "    <tr>\n",
       "      <th>4</th>\n",
       "      <td>management</td>\n",
       "      <td>630</td>\n",
       "    </tr>\n",
       "    <tr>\n",
       "      <th>5</th>\n",
       "      <td>marketing</td>\n",
       "      <td>858</td>\n",
       "    </tr>\n",
       "    <tr>\n",
       "      <th>6</th>\n",
       "      <td>product_mng</td>\n",
       "      <td>902</td>\n",
       "    </tr>\n",
       "    <tr>\n",
       "      <th>7</th>\n",
       "      <td>sales</td>\n",
       "      <td>4140</td>\n",
       "    </tr>\n",
       "    <tr>\n",
       "      <th>8</th>\n",
       "      <td>support</td>\n",
       "      <td>2229</td>\n",
       "    </tr>\n",
       "    <tr>\n",
       "      <th>9</th>\n",
       "      <td>technical</td>\n",
       "      <td>2720</td>\n",
       "    </tr>\n",
       "  </tbody>\n",
       "</table>\n",
       "</div>"
      ],
      "text/plain": [
       "    department  employee_qty\n",
       "0           IT          1227\n",
       "1        RandD           787\n",
       "2   accounting           767\n",
       "3           hr           739\n",
       "4   management           630\n",
       "5    marketing           858\n",
       "6  product_mng           902\n",
       "7        sales          4140\n",
       "8      support          2229\n",
       "9    technical          2720"
      ]
     },
     "execution_count": 9,
     "metadata": {},
     "output_type": "execute_result"
    }
   ],
   "source": [
    "employee_qty = hr.groupby('department').count().reset_index()\n",
    "employee_qty = employee_qty.iloc[:,:2]\n",
    "employee_qty.columns = ['department', 'employee_qty']\n",
    "employee_qty.head(10)"
   ]
  },
  {
   "cell_type": "code",
   "execution_count": 11,
   "metadata": {},
   "outputs": [
    {
     "data": {
      "image/png": "[encoded data removed]",
      "text/plain": [
       "<Figure size 432x288 with 1 Axes>"
      ]
     },
     "metadata": {
      "needs_background": "light"
     },
     "output_type": "display_data"
    }
   ],
   "source": [
    "x = employee_qty.department\n",
    "y = employee_qty.employee_qty\n",
    "\n",
    "fig, ax = plt.subplots()\n",
    "\n",
    "ax.barh(x, y)\n",
    "plt.grid()\n",
    "plt.show()"
   ]
  },
  {
   "cell_type": "code",
   "execution_count": null,
   "metadata": {},
   "outputs": [],
   "source": [
    "#Part 5 -------------------------"
   ]
  },
  {
   "cell_type": "code",
   "execution_count": 99,
   "metadata": {},
   "outputs": [
    {
     "data": {
      "text/html": [
       "<div>\n",
       "<style scoped>\n",
       "    .dataframe tbody tr th:only-of-type {\n",
       "        vertical-align: middle;\n",
       "    }\n",
       "\n",
       "    .dataframe tbody tr th {\n",
       "        vertical-align: top;\n",
       "    }\n",
       "\n",
       "    .dataframe thead th {\n",
       "        text-align: right;\n",
       "    }\n",
       "</style>\n",
       "<table border=\"1\" class=\"dataframe\">\n",
       "  <thead>\n",
       "    <tr style=\"text-align: right;\">\n",
       "      <th></th>\n",
       "      <th>salary</th>\n",
       "      <th>Employee_qty</th>\n",
       "    </tr>\n",
       "  </thead>\n",
       "  <tbody>\n",
       "    <tr>\n",
       "      <th>0</th>\n",
       "      <td>high</td>\n",
       "      <td>1237</td>\n",
       "    </tr>\n",
       "    <tr>\n",
       "      <th>1</th>\n",
       "      <td>low</td>\n",
       "      <td>7316</td>\n",
       "    </tr>\n",
       "    <tr>\n",
       "      <th>2</th>\n",
       "      <td>medium</td>\n",
       "      <td>6446</td>\n",
       "    </tr>\n",
       "  </tbody>\n",
       "</table>\n",
       "</div>"
      ],
      "text/plain": [
       "   salary  Employee_qty\n",
       "0    high          1237\n",
       "1     low          7316\n",
       "2  medium          6446"
      ]
     },
     "execution_count": 99,
     "metadata": {},
     "output_type": "execute_result"
    }
   ],
   "source": [
    "salary_dist = hr.groupby('salary').count().reset_index()\n",
    "salary_dist = salary_dist.iloc[:,0:2]\n",
    "salary_dist.columns = ['salary', 'Employee_qty']\n",
    "salary_dist.head()"
   ]
  },
  {
   "cell_type": "code",
   "execution_count": 13,
   "metadata": {},
   "outputs": [
    {
     "data": {
      "text/plain": [
       "<matplotlib.legend.Legend at 0x55bfe48>"
      ]
     },
     "execution_count": 13,
     "metadata": {},
     "output_type": "execute_result"
    },
    {
     "data": {
      "image/png": "[encoded data removed]",
      "text/plain": [
       "<Figure size 432x288 with 1 Axes>"
      ]
     },
     "metadata": {},
     "output_type": "display_data"
    }
   ],
   "source": [
    "salary_dist.plot(kind='pie', y='Employee_qty')\n",
    "plt.legend(labels = ['0 - High', '1 - Low', '2 - Medium'])"
   ]
  },
  {
   "cell_type": "code",
   "execution_count": null,
   "metadata": {},
   "outputs": [],
   "source": [
    "#Part 6 ----------------------------------------"
   ]
  },
  {
   "cell_type": "code",
   "execution_count": 14,
   "metadata": {},
   "outputs": [
    {
     "data": {
      "text/html": [
       "<div>\n",
       "<style scoped>\n",
       "    .dataframe tbody tr th:only-of-type {\n",
       "        vertical-align: middle;\n",
       "    }\n",
       "\n",
       "    .dataframe tbody tr th {\n",
       "        vertical-align: top;\n",
       "    }\n",
       "\n",
       "    .dataframe thead th {\n",
       "        text-align: right;\n",
       "    }\n",
       "</style>\n",
       "<table border=\"1\" class=\"dataframe\">\n",
       "  <thead>\n",
       "    <tr style=\"text-align: right;\">\n",
       "      <th></th>\n",
       "      <th></th>\n",
       "      <th>qty</th>\n",
       "    </tr>\n",
       "    <tr>\n",
       "      <th>department</th>\n",
       "      <th>salary</th>\n",
       "      <th></th>\n",
       "    </tr>\n",
       "  </thead>\n",
       "  <tbody>\n",
       "    <tr>\n",
       "      <th rowspan=\"3\" valign=\"top\">IT</th>\n",
       "      <th>low</th>\n",
       "      <td>609</td>\n",
       "    </tr>\n",
       "    <tr>\n",
       "      <th>medium</th>\n",
       "      <td>535</td>\n",
       "    </tr>\n",
       "    <tr>\n",
       "      <th>high</th>\n",
       "      <td>83</td>\n",
       "    </tr>\n",
       "    <tr>\n",
       "      <th rowspan=\"3\" valign=\"top\">RandD</th>\n",
       "      <th>medium</th>\n",
       "      <td>372</td>\n",
       "    </tr>\n",
       "    <tr>\n",
       "      <th>low</th>\n",
       "      <td>364</td>\n",
       "    </tr>\n",
       "    <tr>\n",
       "      <th>high</th>\n",
       "      <td>51</td>\n",
       "    </tr>\n",
       "    <tr>\n",
       "      <th rowspan=\"3\" valign=\"top\">accounting</th>\n",
       "      <th>low</th>\n",
       "      <td>358</td>\n",
       "    </tr>\n",
       "    <tr>\n",
       "      <th>medium</th>\n",
       "      <td>335</td>\n",
       "    </tr>\n",
       "    <tr>\n",
       "      <th>high</th>\n",
       "      <td>74</td>\n",
       "    </tr>\n",
       "    <tr>\n",
       "      <th rowspan=\"3\" valign=\"top\">hr</th>\n",
       "      <th>medium</th>\n",
       "      <td>359</td>\n",
       "    </tr>\n",
       "    <tr>\n",
       "      <th>low</th>\n",
       "      <td>335</td>\n",
       "    </tr>\n",
       "    <tr>\n",
       "      <th>high</th>\n",
       "      <td>45</td>\n",
       "    </tr>\n",
       "    <tr>\n",
       "      <th rowspan=\"3\" valign=\"top\">management</th>\n",
       "      <th>high</th>\n",
       "      <td>225</td>\n",
       "    </tr>\n",
       "    <tr>\n",
       "      <th>medium</th>\n",
       "      <td>225</td>\n",
       "    </tr>\n",
       "    <tr>\n",
       "      <th>low</th>\n",
       "      <td>180</td>\n",
       "    </tr>\n",
       "    <tr>\n",
       "      <th rowspan=\"3\" valign=\"top\">marketing</th>\n",
       "      <th>low</th>\n",
       "      <td>402</td>\n",
       "    </tr>\n",
       "    <tr>\n",
       "      <th>medium</th>\n",
       "      <td>376</td>\n",
       "    </tr>\n",
       "    <tr>\n",
       "      <th>high</th>\n",
       "      <td>80</td>\n",
       "    </tr>\n",
       "    <tr>\n",
       "      <th rowspan=\"3\" valign=\"top\">product_mng</th>\n",
       "      <th>low</th>\n",
       "      <td>451</td>\n",
       "    </tr>\n",
       "    <tr>\n",
       "      <th>medium</th>\n",
       "      <td>383</td>\n",
       "    </tr>\n",
       "    <tr>\n",
       "      <th>high</th>\n",
       "      <td>68</td>\n",
       "    </tr>\n",
       "    <tr>\n",
       "      <th rowspan=\"3\" valign=\"top\">sales</th>\n",
       "      <th>low</th>\n",
       "      <td>2099</td>\n",
       "    </tr>\n",
       "    <tr>\n",
       "      <th>medium</th>\n",
       "      <td>1772</td>\n",
       "    </tr>\n",
       "    <tr>\n",
       "      <th>high</th>\n",
       "      <td>269</td>\n",
       "    </tr>\n",
       "    <tr>\n",
       "      <th rowspan=\"3\" valign=\"top\">support</th>\n",
       "      <th>low</th>\n",
       "      <td>1146</td>\n",
       "    </tr>\n",
       "    <tr>\n",
       "      <th>medium</th>\n",
       "      <td>942</td>\n",
       "    </tr>\n",
       "    <tr>\n",
       "      <th>high</th>\n",
       "      <td>141</td>\n",
       "    </tr>\n",
       "    <tr>\n",
       "      <th rowspan=\"3\" valign=\"top\">technical</th>\n",
       "      <th>low</th>\n",
       "      <td>1372</td>\n",
       "    </tr>\n",
       "    <tr>\n",
       "      <th>medium</th>\n",
       "      <td>1147</td>\n",
       "    </tr>\n",
       "    <tr>\n",
       "      <th>high</th>\n",
       "      <td>201</td>\n",
       "    </tr>\n",
       "  </tbody>\n",
       "</table>\n",
       "</div>"
      ],
      "text/plain": [
       "                     qty\n",
       "department  salary      \n",
       "IT          low      609\n",
       "            medium   535\n",
       "            high      83\n",
       "RandD       medium   372\n",
       "            low      364\n",
       "            high      51\n",
       "accounting  low      358\n",
       "            medium   335\n",
       "            high      74\n",
       "hr          medium   359\n",
       "            low      335\n",
       "            high      45\n",
       "management  high     225\n",
       "            medium   225\n",
       "            low      180\n",
       "marketing   low      402\n",
       "            medium   376\n",
       "            high      80\n",
       "product_mng low      451\n",
       "            medium   383\n",
       "            high      68\n",
       "sales       low     2099\n",
       "            medium  1772\n",
       "            high     269\n",
       "support     low     1146\n",
       "            medium   942\n",
       "            high     141\n",
       "technical   low     1372\n",
       "            medium  1147\n",
       "            high     201"
      ]
     },
     "execution_count": 14,
     "metadata": {},
     "output_type": "execute_result"
    }
   ],
   "source": [
    "salary_sales = pd.DataFrame(hr.groupby('department').salary.value_counts())\n",
    "salary_sales.columns = ['qty']\n",
    "salary_sales.reset_index()\n",
    "salary_sales"
   ]
  },
  {
   "cell_type": "code",
   "execution_count": 15,
   "metadata": {},
   "outputs": [
    {
     "data": {
      "image/png": "[encoded data removed]",
      "text/plain": [
       "<Figure size 432x288 with 1 Axes>"
      ]
     },
     "metadata": {
      "needs_background": "light"
     },
     "output_type": "display_data"
    }
   ],
   "source": [
    "salary_sales.unstack().plot(kind='bar')\n",
    "\n",
    "plt.legend(labels = ['High', 'Low', 'Medium'])\n",
    "plt.xlabel('Отдел')\n",
    "plt.ylabel('Количество сотрудников')\n",
    "plt.title('Распределение сотрудников по зарплатам по отделам')\n",
    "plt.grid()\n",
    "plt.show()\n"
   ]
  },
  {
   "cell_type": "code",
   "execution_count": 18,
   "metadata": {},
   "outputs": [],
   "source": [
    "#Part 7 -------------------------------"
   ]
  },
  {
   "cell_type": "code",
   "execution_count": 25,
   "metadata": {},
   "outputs": [],
   "source": [
    "high_salary = hr.loc[hr.salary == 'high'].average_montly_hours\n",
    "low_salary = hr.loc[hr.salary == 'low'].average_montly_hours"
   ]
  },
  {
   "cell_type": "markdown",
   "metadata": {},
   "source": [
    "H0: среднее значение количества часов на рабочем месте у сотрудников с высоким и низким окладом одинаковое\n",
    "H1: среднее значение количества часов на рабочем месте у сотрудников с высоким и низким окладом различается"
   ]
  },
  {
   "cell_type": "code",
   "execution_count": 29,
   "metadata": {},
   "outputs": [
    {
     "name": "stdout",
     "output_type": "stream",
     "text": [
      "Ttest_indResult(statistic=-0.7624331665385475, pvalue=0.4459045542257889)\n",
      "Не отвергаем нулевую гипотезу\n"
     ]
    }
   ],
   "source": [
    "alpha = 0.05\n",
    "result = stats.ttest_ind(high_salary, low_salary, equal_var=False)\n",
    "print(result)\n",
    "if (result.pvalue < alpha):\n",
    "    print('Отвергаем нулевую гипотезу, среднее значение количества часов у сотрудников с высоким и низким окладом различается')\n",
    "else:\n",
    "    print('Не отвергаем нулевую гипотезу')"
   ]
  },
  {
   "cell_type": "code",
   "execution_count": null,
   "metadata": {},
   "outputs": [],
   "source": [
    "#Part 8 -------------------------------"
   ]
  },
  {
   "cell_type": "code",
   "execution_count": 90,
   "metadata": {},
   "outputs": [],
   "source": [
    "hr_left = hr.loc[hr['left'] == 1]\n",
    "hr_stay = hr.loc[hr['left'] == 0]"
   ]
  },
  {
   "cell_type": "code",
   "execution_count": 96,
   "metadata": {},
   "outputs": [
    {
     "name": "stdout",
     "output_type": "stream",
     "text": [
      "Доля сотрудников с повышением среди уволившихся: 0.00532\n",
      "Доля сотрудников с повышением среди оставшихся: 0.0263\n"
     ]
    }
   ],
   "source": [
    "print(f'Доля сотрудников с повышением среди уволившихся: {len(hr_left.loc[hr_left.promotion_last_5years == 1]) / len(hr_left):.3}')\n",
    "print(f'Доля сотрудников с повышением среди оставшихся: {len(hr_stay.loc[hr_stay.promotion_last_5years == 1]) / len(hr_stay):.3}')"
   ]
  },
  {
   "cell_type": "code",
   "execution_count": 52,
   "metadata": {},
   "outputs": [
    {
     "name": "stdout",
     "output_type": "stream",
     "text": [
      "Средняя степень удовлетворенности среди уволившихся: 0.4401\n",
      "Средняя степень удовлетворенности среди оставшихся: 0.6668\n"
     ]
    }
   ],
   "source": [
    "print(f'Средняя степень удовлетворенности среди уволившихся: {hr_left.satisfaction_level.mean():.4}')\n",
    "print(f'Средняя степень удовлетворенности среди оставшихся: {hr_stay.satisfaction_level.mean():.4}')"
   ]
  },
  {
   "cell_type": "code",
   "execution_count": 53,
   "metadata": {},
   "outputs": [
    {
     "name": "stdout",
     "output_type": "stream",
     "text": [
      "Среднее количество проектов среди уволившихся: 3.856\n",
      "Среднее количество проектов среди оставшихся: 3.787\n"
     ]
    }
   ],
   "source": [
    "print(f'Среднее количество проектов среди уволившихся: {hr_left.number_project.mean():.4}')\n",
    "print(f'Среднее количество проектов среди оставшихся: {hr_stay.number_project.mean():.4}')"
   ]
  },
  {
   "cell_type": "code",
   "execution_count": null,
   "metadata": {},
   "outputs": [],
   "source": [
    "#Part 9 -------------------------------"
   ]
  },
  {
   "cell_type": "code",
   "execution_count": 16,
   "metadata": {},
   "outputs": [],
   "source": [
    "hr_LDA = hr.copy()"
   ]
  },
  {
   "cell_type": "code",
   "execution_count": 18,
   "metadata": {},
   "outputs": [],
   "source": [
    "hr_LDA.drop(hr_LDA.iloc[:, 8:], axis=1, inplace=True)"
   ]
  },
  {
   "cell_type": "code",
   "execution_count": 24,
   "metadata": {},
   "outputs": [],
   "source": [
    "#Разделяем все данные на тренировочную и тестовую выбоки\n",
    "data_train, data_test = train_test_split(hr_LDA, test_size=0.2)\n",
    "y_train, y_test = data_train['left'], data_test['left']\n",
    "del data_train['left']\n",
    "del data_test['left']"
   ]
  },
  {
   "cell_type": "code",
   "execution_count": 39,
   "metadata": {},
   "outputs": [],
   "source": [
    "#Строим модель, обучаем её и предсказываем результаты\n",
    "lda = LinearDiscriminantAnalysis()\n",
    "lda.fit(data_train, y_train)\n",
    "data_predict = lda.predict(data_test)\n",
    "result = pd.DataFrame([y_test.values, data_predict]).T"
   ]
  },
  {
   "cell_type": "code",
   "execution_count": 40,
   "metadata": {},
   "outputs": [
    {
     "data": {
      "text/plain": [
       "0.759"
      ]
     },
     "execution_count": 40,
     "metadata": {},
     "output_type": "execute_result"
    }
   ],
   "source": [
    "#Оценим качество построенной модели с помощью  accuracy_score\n",
    "accuracy_score(y_test.values, data_predict)"
   ]
  },
  {
   "cell_type": "code",
   "execution_count": 41,
   "metadata": {},
   "outputs": [
    {
     "data": {
      "text/plain": [
       "array([[2099,  211],\n",
       "       [ 512,  178]], dtype=int64)"
      ]
     },
     "execution_count": 41,
     "metadata": {},
     "output_type": "execute_result"
    }
   ],
   "source": [
    "#Построим confusion_matrix для реальных и предсказанных данных\n",
    "conf_mat = confusion_matrix(y_test, data_predict)\n",
    "conf_mat"
   ]
  },
  {
   "cell_type": "code",
   "execution_count": null,
   "metadata": {},
   "outputs": [],
   "source": []
  }
 ],
 "metadata": {
  "kernelspec": {
   "display_name": "Python 3",
   "language": "python",
   "name": "python3"
  },
  "language_info": {
   "codemirror_mode": {
    "name": "ipython",
    "version": 3
   },
   "file_extension": ".py",
   "mimetype": "text/x-python",
   "name": "python",
   "nbconvert_exporter": "python",
   "pygments_lexer": "ipython3",
   "version": "3.7.6"
  }
 },
 "nbformat": 4,
 "nbformat_minor": 4
}
