{
 "cells": [
  {
   "cell_type": "code",
   "execution_count": 1,
   "metadata": {},
   "outputs": [],
   "source": [
    "import pandas as pd\n",
    "import numpy as np\n",
    "#import matplotlib as plt\n",
    "import matplotlib.pyplot as plt\n",
    "import seaborn as sns"
   ]
  },
  {
   "cell_type": "markdown",
   "metadata": {},
   "source": [
    "** Часть 1 **"
   ]
  },
  {
   "cell_type": "code",
   "execution_count": 2,
   "metadata": {},
   "outputs": [
    {
     "data": {
      "text/html": [
       "<div>\n",
       "<style scoped>\n",
       "    .dataframe tbody tr th:only-of-type {\n",
       "        vertical-align: middle;\n",
       "    }\n",
       "\n",
       "    .dataframe tbody tr th {\n",
       "        vertical-align: top;\n",
       "    }\n",
       "\n",
       "    .dataframe thead th {\n",
       "        text-align: right;\n",
       "    }\n",
       "</style>\n",
       "<table border=\"1\" class=\"dataframe\">\n",
       "  <thead>\n",
       "    <tr style=\"text-align: right;\">\n",
       "      <th></th>\n",
       "      <th>surgery</th>\n",
       "      <th>age</th>\n",
       "      <th>Hospital_Number</th>\n",
       "      <th>pulse</th>\n",
       "      <th>respiratory_rate</th>\n",
       "      <th>mucous_membranes</th>\n",
       "      <th>total_protein</th>\n",
       "      <th>outcome</th>\n",
       "    </tr>\n",
       "  </thead>\n",
       "  <tbody>\n",
       "    <tr>\n",
       "      <th>count</th>\n",
       "      <td>299.000000</td>\n",
       "      <td>300.000000</td>\n",
       "      <td>3.000000e+02</td>\n",
       "      <td>276.000000</td>\n",
       "      <td>242.000000</td>\n",
       "      <td>253.000000</td>\n",
       "      <td>267.000000</td>\n",
       "      <td>299.000000</td>\n",
       "    </tr>\n",
       "    <tr>\n",
       "      <th>mean</th>\n",
       "      <td>1.397993</td>\n",
       "      <td>1.640000</td>\n",
       "      <td>1.085889e+06</td>\n",
       "      <td>71.913043</td>\n",
       "      <td>30.417355</td>\n",
       "      <td>2.853755</td>\n",
       "      <td>24.456929</td>\n",
       "      <td>1.551839</td>\n",
       "    </tr>\n",
       "    <tr>\n",
       "      <th>std</th>\n",
       "      <td>0.490305</td>\n",
       "      <td>2.173972</td>\n",
       "      <td>1.529801e+06</td>\n",
       "      <td>28.630557</td>\n",
       "      <td>17.642231</td>\n",
       "      <td>1.620294</td>\n",
       "      <td>27.475009</td>\n",
       "      <td>0.737187</td>\n",
       "    </tr>\n",
       "    <tr>\n",
       "      <th>min</th>\n",
       "      <td>1.000000</td>\n",
       "      <td>1.000000</td>\n",
       "      <td>5.184760e+05</td>\n",
       "      <td>30.000000</td>\n",
       "      <td>8.000000</td>\n",
       "      <td>1.000000</td>\n",
       "      <td>3.300000</td>\n",
       "      <td>1.000000</td>\n",
       "    </tr>\n",
       "    <tr>\n",
       "      <th>25%</th>\n",
       "      <td>1.000000</td>\n",
       "      <td>1.000000</td>\n",
       "      <td>5.289040e+05</td>\n",
       "      <td>48.000000</td>\n",
       "      <td>18.500000</td>\n",
       "      <td>1.000000</td>\n",
       "      <td>6.500000</td>\n",
       "      <td>1.000000</td>\n",
       "    </tr>\n",
       "    <tr>\n",
       "      <th>50%</th>\n",
       "      <td>1.000000</td>\n",
       "      <td>1.000000</td>\n",
       "      <td>5.303055e+05</td>\n",
       "      <td>64.000000</td>\n",
       "      <td>24.500000</td>\n",
       "      <td>3.000000</td>\n",
       "      <td>7.500000</td>\n",
       "      <td>1.000000</td>\n",
       "    </tr>\n",
       "    <tr>\n",
       "      <th>75%</th>\n",
       "      <td>2.000000</td>\n",
       "      <td>1.000000</td>\n",
       "      <td>5.347275e+05</td>\n",
       "      <td>88.000000</td>\n",
       "      <td>36.000000</td>\n",
       "      <td>4.000000</td>\n",
       "      <td>57.000000</td>\n",
       "      <td>2.000000</td>\n",
       "    </tr>\n",
       "    <tr>\n",
       "      <th>max</th>\n",
       "      <td>2.000000</td>\n",
       "      <td>9.000000</td>\n",
       "      <td>5.305629e+06</td>\n",
       "      <td>184.000000</td>\n",
       "      <td>96.000000</td>\n",
       "      <td>6.000000</td>\n",
       "      <td>89.000000</td>\n",
       "      <td>3.000000</td>\n",
       "    </tr>\n",
       "  </tbody>\n",
       "</table>\n",
       "</div>"
      ],
      "text/plain": [
       "          surgery         age  Hospital_Number       pulse  respiratory_rate  \\\n",
       "count  299.000000  300.000000     3.000000e+02  276.000000        242.000000   \n",
       "mean     1.397993    1.640000     1.085889e+06   71.913043         30.417355   \n",
       "std      0.490305    2.173972     1.529801e+06   28.630557         17.642231   \n",
       "min      1.000000    1.000000     5.184760e+05   30.000000          8.000000   \n",
       "25%      1.000000    1.000000     5.289040e+05   48.000000         18.500000   \n",
       "50%      1.000000    1.000000     5.303055e+05   64.000000         24.500000   \n",
       "75%      2.000000    1.000000     5.347275e+05   88.000000         36.000000   \n",
       "max      2.000000    9.000000     5.305629e+06  184.000000         96.000000   \n",
       "\n",
       "       mucous_membranes  total_protein     outcome  \n",
       "count        253.000000     267.000000  299.000000  \n",
       "mean           2.853755      24.456929    1.551839  \n",
       "std            1.620294      27.475009    0.737187  \n",
       "min            1.000000       3.300000    1.000000  \n",
       "25%            1.000000       6.500000    1.000000  \n",
       "50%            3.000000       7.500000    1.000000  \n",
       "75%            4.000000      57.000000    2.000000  \n",
       "max            6.000000      89.000000    3.000000  "
      ]
     },
     "execution_count": 2,
     "metadata": {},
     "output_type": "execute_result"
    }
   ],
   "source": [
    "df = pd.read_csv('horse_data.txt', header=None, na_values='?')\n",
    "df = df.iloc[:, [0, 1, 2, 4, 5, 8, 19, 22]]\n",
    "df.columns = ['surgery', 'age', 'Hospital_Number', 'pulse', 'respiratory_rate', 'mucous_membranes', 'total_protein', 'outcome']\n",
    "df.describe()"
   ]
  },
  {
   "cell_type": "code",
   "execution_count": null,
   "metadata": {},
   "outputs": [],
   "source": []
  },
  {
   "cell_type": "markdown",
   "metadata": {},
   "source": [
    "    ** Описание значений **"
   ]
  },
  {
   "cell_type": "markdown",
   "metadata": {},
   "source": [
    "** Surgery** \n",
    "В данной колонке 1 строка имеет пропущенное значение\n",
    "Все значения находятся в интервале возможных значений - [1,2]. Выбросов нет"
   ]
  },
  {
   "cell_type": "markdown",
   "metadata": {},
   "source": [
    "** Age** В данной колонке нет пропущенных значений. Но есть значения (max=9) вне интервала возможных значений - [1,2]. Т.е. есть ошибочные значения, что делает среднее = 1.64, а дисперсию = 2.17. Т.е надо отработать эти ошибки"
   ]
  },
  {
   "cell_type": "markdown",
   "metadata": {},
   "source": [
    "** Hospital_Number ** это категориальные данные. Пропущенных значений нет. Статистические показатели смысла не имеют  "
   ]
  },
  {
   "cell_type": "markdown",
   "metadata": {},
   "source": [
    "** pulse** По данному параметру отсутствует 24 значений или 8%. Нормальные значения параметра 30 -40 ударов в минуту. Минимум min=30 соответствует нижней границе нормы. Мах=184 существенно выбивается из интервала нормальных значений - превосходит 3 * std. Нужно понять это выбросы или ошибки в данных. Аномальные значения искажают статистические показатели"
   ]
  },
  {
   "cell_type": "markdown",
   "metadata": {},
   "source": [
    "** respiratory_rate\t** По данному параметру отсутствует 58 значений или 19.3%. Нормальные значения параметра: 8-10. Минимум min=8 соответствует норме. Мах=96 значительно превосходит 3 * std. Нужно выяснить приhоду аномальных максимумов - ошибка данных или выброс."
   ]
  },
  {
   "cell_type": "markdown",
   "metadata": {},
   "source": [
    "** mucous_membranes ** Отсутствует 47 значений или 15.7%. Нормальные значения в диапазоне [1,6]. Min и Max столбца соответствуют границам интервала. Значит выбросов и аномальных значений нет."
   ]
  },
  {
   "cell_type": "markdown",
   "metadata": {},
   "source": [
    "** total_protein ** По данному параметру отсутствует 33 значений или 11%.  Нормальные значения параметра: 6-7.5. Max = 89 значительно превосходит нормальные значения. Вероятно это ошибка ввода данных: вместо 89 должно быть 8,9. Надо отработать ошибки данных."
   ]
  },
  {
   "cell_type": "markdown",
   "metadata": {},
   "source": [
    "** outcome ** По данному параметрку отсутствует 1 значение. Диапазон значений [1,3]. Все значения находятся в данном дипазоне. Min и Max столбца соответствуют границам интервала.выбросов и аномальных значений нет."
   ]
  },
  {
   "cell_type": "markdown",
   "metadata": {},
   "source": [
    "** Задание 2 **"
   ]
  },
  {
   "cell_type": "markdown",
   "metadata": {},
   "source": [
    "** Surgery** - выбросов нет "
   ]
  },
  {
   "cell_type": "code",
   "execution_count": 3,
   "metadata": {},
   "outputs": [
    {
     "data": {
      "text/plain": [
       "<matplotlib.axes._subplots.AxesSubplot at 0xb478a48>"
      ]
     },
     "execution_count": 3,
     "metadata": {},
     "output_type": "execute_result"
    },
    {
     "data": {
      "image/png": "[encoded data removed]",
      "text/plain": [
       "<Figure size 432x288 with 1 Axes>"
      ]
     },
     "metadata": {
      "needs_background": "light"
     },
     "output_type": "display_data"
    }
   ],
   "source": [
    "df['surgery'].plot(kind='box')"
   ]
  },
  {
   "cell_type": "markdown",
   "metadata": {},
   "source": [
    "** Age**"
   ]
  },
  {
   "cell_type": "code",
   "execution_count": 4,
   "metadata": {},
   "outputs": [
    {
     "data": {
      "text/plain": [
       "<matplotlib.axes._subplots.AxesSubplot at 0xb521bc8>"
      ]
     },
     "execution_count": 4,
     "metadata": {},
     "output_type": "execute_result"
    },
    {
     "data": {
      "image/png": "[encoded data removed]",
      "text/plain": [
       "<Figure size 432x288 with 1 Axes>"
      ]
     },
     "metadata": {
      "needs_background": "light"
     },
     "output_type": "display_data"
    }
   ],
   "source": [
    "df['age'].plot(kind='box')"
   ]
  },
  {
   "cell_type": "code",
   "execution_count": 5,
   "metadata": {},
   "outputs": [
    {
     "data": {
      "text/plain": [
       "(24, 8)"
      ]
     },
     "execution_count": 5,
     "metadata": {},
     "output_type": "execute_result"
    }
   ],
   "source": [
    "q1 = df.age.quantile(0.25)\n",
    "q3 = df.age.quantile(0.75)\n",
    "iqr = q3 - q1\n",
    "lower_bound = q1 - (1.5 * iqr) \n",
    "upper_bound = q3 + (1.5 * iqr)\n",
    "outliers = df[df.age > upper_bound]\n",
    "outliers.shape"
   ]
  },
  {
   "cell_type": "markdown",
   "metadata": {},
   "source": [
    "** Все значения возраста вне диапазона равны 9. Можно предположить, что это неправильное распознование значения \"2. В этом случае гипотеза позволяет заменить значение '9' на значение '2'"
   ]
  },
  {
   "cell_type": "code",
   "execution_count": 153,
   "metadata": {},
   "outputs": [
    {
     "data": {
      "text/plain": [
       "1.0    276\n",
       "2.0     24\n",
       "Name: new_age, dtype: int64"
      ]
     },
     "execution_count": 153,
     "metadata": {},
     "output_type": "execute_result"
    }
   ],
   "source": [
    "df['age'] = df.apply(lambda x: 2 if x['age'] == 9 else x['age'], axis=1)\n",
    "df['age'].value_counts()"
   ]
  },
  {
   "cell_type": "code",
   "execution_count": 6,
   "metadata": {},
   "outputs": [
    {
     "data": {
      "text/plain": [
       "1    276\n",
       "2     24\n",
       "Name: age, dtype: int64"
      ]
     },
     "execution_count": 6,
     "metadata": {},
     "output_type": "execute_result"
    }
   ],
   "source": [
    "df.loc[df['age'] == 9,'age'] = 2\n",
    "df['age'].value_counts()"
   ]
  },
  {
   "cell_type": "markdown",
   "metadata": {},
   "source": [
    "** Какой из двух вариантов происваивания значений правильный? Обработка всего столбца? Или выборка только нужных элементов столбца?"
   ]
  },
  {
   "cell_type": "markdown",
   "metadata": {},
   "source": [
    "** pulse **"
   ]
  },
  {
   "cell_type": "code",
   "execution_count": 7,
   "metadata": {},
   "outputs": [
    {
     "data": {
      "text/plain": [
       "<matplotlib.axes._subplots.AxesSubplot at 0xb5e0f88>"
      ]
     },
     "execution_count": 7,
     "metadata": {},
     "output_type": "execute_result"
    },
    {
     "data": {
      "image/png": "[encoded data removed]",
      "text/plain": [
       "<Figure size 432x288 with 1 Axes>"
      ]
     },
     "metadata": {
      "needs_background": "light"
     },
     "output_type": "display_data"
    }
   ],
   "source": [
    "df['pulse'].plot(kind='box')"
   ]
  },
  {
   "cell_type": "code",
   "execution_count": 10,
   "metadata": {},
   "outputs": [
    {
     "data": {
      "text/html": [
       "<div>\n",
       "<style scoped>\n",
       "    .dataframe tbody tr th:only-of-type {\n",
       "        vertical-align: middle;\n",
       "    }\n",
       "\n",
       "    .dataframe tbody tr th {\n",
       "        vertical-align: top;\n",
       "    }\n",
       "\n",
       "    .dataframe thead th {\n",
       "        text-align: right;\n",
       "    }\n",
       "</style>\n",
       "<table border=\"1\" class=\"dataframe\">\n",
       "  <thead>\n",
       "    <tr style=\"text-align: right;\">\n",
       "      <th></th>\n",
       "      <th>surgery</th>\n",
       "      <th>age</th>\n",
       "      <th>Hospital_Number</th>\n",
       "      <th>pulse</th>\n",
       "      <th>respiratory_rate</th>\n",
       "      <th>mucous_membranes</th>\n",
       "      <th>total_protein</th>\n",
       "      <th>outcome</th>\n",
       "    </tr>\n",
       "  </thead>\n",
       "  <tbody>\n",
       "    <tr>\n",
       "      <th>3</th>\n",
       "      <td>1.0</td>\n",
       "      <td>2</td>\n",
       "      <td>5290409</td>\n",
       "      <td>164.0</td>\n",
       "      <td>84.0</td>\n",
       "      <td>6.0</td>\n",
       "      <td>7.2</td>\n",
       "      <td>2.0</td>\n",
       "    </tr>\n",
       "    <tr>\n",
       "      <th>41</th>\n",
       "      <td>2.0</td>\n",
       "      <td>2</td>\n",
       "      <td>5288249</td>\n",
       "      <td>150.0</td>\n",
       "      <td>72.0</td>\n",
       "      <td>NaN</td>\n",
       "      <td>8.5</td>\n",
       "      <td>1.0</td>\n",
       "    </tr>\n",
       "    <tr>\n",
       "      <th>55</th>\n",
       "      <td>1.0</td>\n",
       "      <td>2</td>\n",
       "      <td>5282839</td>\n",
       "      <td>160.0</td>\n",
       "      <td>20.0</td>\n",
       "      <td>5.0</td>\n",
       "      <td>NaN</td>\n",
       "      <td>2.0</td>\n",
       "    </tr>\n",
       "    <tr>\n",
       "      <th>255</th>\n",
       "      <td>1.0</td>\n",
       "      <td>2</td>\n",
       "      <td>5294539</td>\n",
       "      <td>184.0</td>\n",
       "      <td>84.0</td>\n",
       "      <td>1.0</td>\n",
       "      <td>3.3</td>\n",
       "      <td>2.0</td>\n",
       "    </tr>\n",
       "    <tr>\n",
       "      <th>275</th>\n",
       "      <td>1.0</td>\n",
       "      <td>2</td>\n",
       "      <td>5297159</td>\n",
       "      <td>150.0</td>\n",
       "      <td>50.0</td>\n",
       "      <td>6.0</td>\n",
       "      <td>6.2</td>\n",
       "      <td>2.0</td>\n",
       "    </tr>\n",
       "  </tbody>\n",
       "</table>\n",
       "</div>"
      ],
      "text/plain": [
       "     surgery  age  Hospital_Number  pulse  respiratory_rate  mucous_membranes  \\\n",
       "3        1.0    2          5290409  164.0              84.0               6.0   \n",
       "41       2.0    2          5288249  150.0              72.0               NaN   \n",
       "55       1.0    2          5282839  160.0              20.0               5.0   \n",
       "255      1.0    2          5294539  184.0              84.0               1.0   \n",
       "275      1.0    2          5297159  150.0              50.0               6.0   \n",
       "\n",
       "     total_protein  outcome  \n",
       "3              7.2      2.0  \n",
       "41             8.5      1.0  \n",
       "55             NaN      2.0  \n",
       "255            3.3      2.0  \n",
       "275            6.2      2.0  "
      ]
     },
     "execution_count": 10,
     "metadata": {},
     "output_type": "execute_result"
    }
   ],
   "source": [
    "q1_pulse = df.pulse.quantile(0.25)\n",
    "q3_pulse = df.pulse.quantile(0.75)\n",
    "iqr_pulse = q3_pulse - q1_pulse\n",
    "lower_bound_pulse = q1_pulse - (1.5 * iqr_pulse) \n",
    "upper_bound_pulse = q3_pulse + (1.5 * iqr_pulse)\n",
    "outliers_pulse = df[df.pulse > upper_bound_pulse]\n",
    "outliers_pulse"
   ]
  },
  {
   "cell_type": "markdown",
   "metadata": {},
   "source": [
    "** Ветеринары утверждают, что после умеренной физической нагрузки пульс увеличивается до 180-200 ударов в минуту, через 10-20 минут должен упасть до 60 ударов в минуту. Можно предположить, что эти значения пульса являются ошибкой измерения пульса не в спокойном состоянии, а сразу после физнагрузки. Еще один вариант - это ошибка записи, когда вместо, например, 64 записали 164, т.е. непреднамеренно увелчичили значения на 100.  \n",
    "Вариант отбработки выбросов - уменьшить значения на 100."
   ]
  },
  {
   "cell_type": "code",
   "execution_count": 14,
   "metadata": {},
   "outputs": [],
   "source": [
    "df['pulse'] = df.apply(lambda x: x['pulse'] if x['pulse'] <= upper_bound_pulse else x['pulse'] - 100, axis=1)"
   ]
  },
  {
   "cell_type": "markdown",
   "metadata": {},
   "source": [
    "** respiratory_rate **"
   ]
  },
  {
   "cell_type": "code",
   "execution_count": 16,
   "metadata": {},
   "outputs": [
    {
     "data": {
      "text/plain": [
       "<matplotlib.axes._subplots.AxesSubplot at 0x55b8bc8>"
      ]
     },
     "execution_count": 16,
     "metadata": {},
     "output_type": "execute_result"
    },
    {
     "data": {
      "image/png": "[encoded data removed]",
      "text/plain": [
       "<Figure size 432x288 with 1 Axes>"
      ]
     },
     "metadata": {
      "needs_background": "light"
     },
     "output_type": "display_data"
    }
   ],
   "source": [
    "df['respiratory_rate'].plot(kind='box')"
   ]
  },
  {
   "cell_type": "code",
   "execution_count": 17,
   "metadata": {},
   "outputs": [
    {
     "data": {
      "text/html": [
       "<div>\n",
       "<style scoped>\n",
       "    .dataframe tbody tr th:only-of-type {\n",
       "        vertical-align: middle;\n",
       "    }\n",
       "\n",
       "    .dataframe tbody tr th {\n",
       "        vertical-align: top;\n",
       "    }\n",
       "\n",
       "    .dataframe thead th {\n",
       "        text-align: right;\n",
       "    }\n",
       "</style>\n",
       "<table border=\"1\" class=\"dataframe\">\n",
       "  <thead>\n",
       "    <tr style=\"text-align: right;\">\n",
       "      <th></th>\n",
       "      <th>surgery</th>\n",
       "      <th>age</th>\n",
       "      <th>Hospital_Number</th>\n",
       "      <th>pulse</th>\n",
       "      <th>respiratory_rate</th>\n",
       "      <th>mucous_membranes</th>\n",
       "      <th>total_protein</th>\n",
       "      <th>outcome</th>\n",
       "    </tr>\n",
       "  </thead>\n",
       "  <tbody>\n",
       "    <tr>\n",
       "      <th>3</th>\n",
       "      <td>1.0</td>\n",
       "      <td>2</td>\n",
       "      <td>5290409</td>\n",
       "      <td>64.0</td>\n",
       "      <td>84.0</td>\n",
       "      <td>6.0</td>\n",
       "      <td>7.2</td>\n",
       "      <td>2.0</td>\n",
       "    </tr>\n",
       "    <tr>\n",
       "      <th>39</th>\n",
       "      <td>1.0</td>\n",
       "      <td>2</td>\n",
       "      <td>5277409</td>\n",
       "      <td>146.0</td>\n",
       "      <td>96.0</td>\n",
       "      <td>NaN</td>\n",
       "      <td>NaN</td>\n",
       "      <td>2.0</td>\n",
       "    </tr>\n",
       "    <tr>\n",
       "      <th>41</th>\n",
       "      <td>2.0</td>\n",
       "      <td>2</td>\n",
       "      <td>5288249</td>\n",
       "      <td>50.0</td>\n",
       "      <td>72.0</td>\n",
       "      <td>NaN</td>\n",
       "      <td>8.5</td>\n",
       "      <td>1.0</td>\n",
       "    </tr>\n",
       "    <tr>\n",
       "      <th>82</th>\n",
       "      <td>1.0</td>\n",
       "      <td>2</td>\n",
       "      <td>5290759</td>\n",
       "      <td>100.0</td>\n",
       "      <td>80.0</td>\n",
       "      <td>2.0</td>\n",
       "      <td>5.7</td>\n",
       "      <td>1.0</td>\n",
       "    </tr>\n",
       "    <tr>\n",
       "      <th>84</th>\n",
       "      <td>1.0</td>\n",
       "      <td>1</td>\n",
       "      <td>529849</td>\n",
       "      <td>60.0</td>\n",
       "      <td>80.0</td>\n",
       "      <td>2.0</td>\n",
       "      <td>4.5</td>\n",
       "      <td>1.0</td>\n",
       "    </tr>\n",
       "    <tr>\n",
       "      <th>103</th>\n",
       "      <td>1.0</td>\n",
       "      <td>2</td>\n",
       "      <td>5292489</td>\n",
       "      <td>140.0</td>\n",
       "      <td>68.0</td>\n",
       "      <td>1.0</td>\n",
       "      <td>5.3</td>\n",
       "      <td>1.0</td>\n",
       "    </tr>\n",
       "    <tr>\n",
       "      <th>106</th>\n",
       "      <td>1.0</td>\n",
       "      <td>1</td>\n",
       "      <td>528668</td>\n",
       "      <td>52.0</td>\n",
       "      <td>96.0</td>\n",
       "      <td>3.0</td>\n",
       "      <td>6.1</td>\n",
       "      <td>1.0</td>\n",
       "    </tr>\n",
       "    <tr>\n",
       "      <th>120</th>\n",
       "      <td>1.0</td>\n",
       "      <td>1</td>\n",
       "      <td>528682</td>\n",
       "      <td>54.0</td>\n",
       "      <td>66.0</td>\n",
       "      <td>2.0</td>\n",
       "      <td>6.0</td>\n",
       "      <td>1.0</td>\n",
       "    </tr>\n",
       "    <tr>\n",
       "      <th>125</th>\n",
       "      <td>1.0</td>\n",
       "      <td>1</td>\n",
       "      <td>528461</td>\n",
       "      <td>42.0</td>\n",
       "      <td>68.0</td>\n",
       "      <td>1.0</td>\n",
       "      <td>7.6</td>\n",
       "      <td>1.0</td>\n",
       "    </tr>\n",
       "    <tr>\n",
       "      <th>186</th>\n",
       "      <td>1.0</td>\n",
       "      <td>1</td>\n",
       "      <td>5278331</td>\n",
       "      <td>64.0</td>\n",
       "      <td>90.0</td>\n",
       "      <td>1.0</td>\n",
       "      <td>6.7</td>\n",
       "      <td>1.0</td>\n",
       "    </tr>\n",
       "    <tr>\n",
       "      <th>208</th>\n",
       "      <td>1.0</td>\n",
       "      <td>1</td>\n",
       "      <td>535338</td>\n",
       "      <td>88.0</td>\n",
       "      <td>80.0</td>\n",
       "      <td>5.0</td>\n",
       "      <td>89.0</td>\n",
       "      <td>3.0</td>\n",
       "    </tr>\n",
       "    <tr>\n",
       "      <th>229</th>\n",
       "      <td>1.0</td>\n",
       "      <td>2</td>\n",
       "      <td>534597</td>\n",
       "      <td>120.0</td>\n",
       "      <td>70.0</td>\n",
       "      <td>NaN</td>\n",
       "      <td>54.0</td>\n",
       "      <td>1.0</td>\n",
       "    </tr>\n",
       "    <tr>\n",
       "      <th>244</th>\n",
       "      <td>1.0</td>\n",
       "      <td>2</td>\n",
       "      <td>5291409</td>\n",
       "      <td>124.0</td>\n",
       "      <td>88.0</td>\n",
       "      <td>2.0</td>\n",
       "      <td>8.0</td>\n",
       "      <td>1.0</td>\n",
       "    </tr>\n",
       "    <tr>\n",
       "      <th>255</th>\n",
       "      <td>1.0</td>\n",
       "      <td>2</td>\n",
       "      <td>5294539</td>\n",
       "      <td>84.0</td>\n",
       "      <td>84.0</td>\n",
       "      <td>1.0</td>\n",
       "      <td>3.3</td>\n",
       "      <td>2.0</td>\n",
       "    </tr>\n",
       "    <tr>\n",
       "      <th>265</th>\n",
       "      <td>2.0</td>\n",
       "      <td>1</td>\n",
       "      <td>528590</td>\n",
       "      <td>56.0</td>\n",
       "      <td>68.0</td>\n",
       "      <td>1.0</td>\n",
       "      <td>6.0</td>\n",
       "      <td>3.0</td>\n",
       "    </tr>\n",
       "    <tr>\n",
       "      <th>269</th>\n",
       "      <td>1.0</td>\n",
       "      <td>1</td>\n",
       "      <td>527883</td>\n",
       "      <td>64.0</td>\n",
       "      <td>90.0</td>\n",
       "      <td>1.0</td>\n",
       "      <td>6.7</td>\n",
       "      <td>1.0</td>\n",
       "    </tr>\n",
       "    <tr>\n",
       "      <th>295</th>\n",
       "      <td>1.0</td>\n",
       "      <td>1</td>\n",
       "      <td>533886</td>\n",
       "      <td>120.0</td>\n",
       "      <td>70.0</td>\n",
       "      <td>4.0</td>\n",
       "      <td>65.0</td>\n",
       "      <td>3.0</td>\n",
       "    </tr>\n",
       "  </tbody>\n",
       "</table>\n",
       "</div>"
      ],
      "text/plain": [
       "     surgery  age  Hospital_Number  pulse  respiratory_rate  mucous_membranes  \\\n",
       "3        1.0    2          5290409   64.0              84.0               6.0   \n",
       "39       1.0    2          5277409  146.0              96.0               NaN   \n",
       "41       2.0    2          5288249   50.0              72.0               NaN   \n",
       "82       1.0    2          5290759  100.0              80.0               2.0   \n",
       "84       1.0    1           529849   60.0              80.0               2.0   \n",
       "103      1.0    2          5292489  140.0              68.0               1.0   \n",
       "106      1.0    1           528668   52.0              96.0               3.0   \n",
       "120      1.0    1           528682   54.0              66.0               2.0   \n",
       "125      1.0    1           528461   42.0              68.0               1.0   \n",
       "186      1.0    1          5278331   64.0              90.0               1.0   \n",
       "208      1.0    1           535338   88.0              80.0               5.0   \n",
       "229      1.0    2           534597  120.0              70.0               NaN   \n",
       "244      1.0    2          5291409  124.0              88.0               2.0   \n",
       "255      1.0    2          5294539   84.0              84.0               1.0   \n",
       "265      2.0    1           528590   56.0              68.0               1.0   \n",
       "269      1.0    1           527883   64.0              90.0               1.0   \n",
       "295      1.0    1           533886  120.0              70.0               4.0   \n",
       "\n",
       "     total_protein  outcome  \n",
       "3              7.2      2.0  \n",
       "39             NaN      2.0  \n",
       "41             8.5      1.0  \n",
       "82             5.7      1.0  \n",
       "84             4.5      1.0  \n",
       "103            5.3      1.0  \n",
       "106            6.1      1.0  \n",
       "120            6.0      1.0  \n",
       "125            7.6      1.0  \n",
       "186            6.7      1.0  \n",
       "208           89.0      3.0  \n",
       "229           54.0      1.0  \n",
       "244            8.0      1.0  \n",
       "255            3.3      2.0  \n",
       "265            6.0      3.0  \n",
       "269            6.7      1.0  \n",
       "295           65.0      3.0  "
      ]
     },
     "execution_count": 17,
     "metadata": {},
     "output_type": "execute_result"
    }
   ],
   "source": [
    "q1_resp = df.respiratory_rate.quantile(0.25)\n",
    "q3_resp = df.respiratory_rate.quantile(0.75)\n",
    "iqr_resp = q3_resp - q1_resp\n",
    "lower_bound_resp = q1_resp - (1.5 * iqr_resp) \n",
    "upper_bound_resp = q3_resp + (1.5 * iqr_resp)\n",
    "outliers_resp = df[df.respiratory_rate > upper_bound_resp]\n",
    "outliers_resp"
   ]
  },
  {
   "cell_type": "markdown",
   "metadata": {},
   "source": [
    "** Ветеринары утверждают, что частота дыхания лошади в состоянии покоя составляет 8-24 единиц, а у лошадей на рыси и галопе оно доходит до 120-130. Частота дыхания возрастает при стрессе, повышении температуры и респираторных заболеваниях. Можно предположить, что эти значения частоты получены у больных лошадей. У 6-ти лошедей из 17-ти результат лечения (колонка outcome) умерла или усыплена. Значит, лошади были больны и для них повышенные показатели частоты дыхания были не ошибочны. Возможно, что и остальные 11 лошадей с повышенной частотой дыхания тоже были больны, но выздоровели, и для них показатели частоты дыхания не являются ошибкой или выбросом. Такие значения могут быть симптомом болезни и их не надо отбраковывать"
   ]
  },
  {
   "cell_type": "markdown",
   "metadata": {},
   "source": [
    "** mucous_membranes ** - выбросов нет"
   ]
  },
  {
   "cell_type": "code",
   "execution_count": 19,
   "metadata": {},
   "outputs": [
    {
     "data": {
      "text/plain": [
       "<matplotlib.axes._subplots.AxesSubplot at 0x562aac8>"
      ]
     },
     "execution_count": 19,
     "metadata": {},
     "output_type": "execute_result"
    },
    {
     "data": {
      "image/png": "[encoded data removed]",
      "text/plain": [
       "<Figure size 432x288 with 1 Axes>"
      ]
     },
     "metadata": {
      "needs_background": "light"
     },
     "output_type": "display_data"
    }
   ],
   "source": [
    "df['mucous_membranes'].plot(kind='box')"
   ]
  },
  {
   "cell_type": "markdown",
   "metadata": {},
   "source": [
    "** total_protein **"
   ]
  },
  {
   "cell_type": "code",
   "execution_count": 21,
   "metadata": {},
   "outputs": [
    {
     "data": {
      "text/plain": [
       "<matplotlib.axes._subplots.AxesSubplot at 0x5504848>"
      ]
     },
     "execution_count": 21,
     "metadata": {},
     "output_type": "execute_result"
    },
    {
     "data": {
      "image/png": "[encoded data removed]",
      "text/plain": [
       "<Figure size 432x288 with 1 Axes>"
      ]
     },
     "metadata": {
      "needs_background": "light"
     },
     "output_type": "display_data"
    }
   ],
   "source": [
    "df['total_protein'].hist()"
   ]
  },
  {
   "cell_type": "markdown",
   "metadata": {},
   "source": [
    "** Гистограмма распредления значений показывает два отреза, на которых сосредоточены значения - от 3.3 до 20 и от 35 до 89.\n",
    "Хотя нормальные значения - 6-7.5. Можно предположить, что значения от 40 до 89 являются ошибкой записи значений, когда, например, вместо 4.0 вносились значения - 40. Т.е. можно предположить, что нужно все значения выше 35 разделить на 10, что приведем их к нормальных значениям."
   ]
  },
  {
   "cell_type": "code",
   "execution_count": 25,
   "metadata": {},
   "outputs": [],
   "source": [
    "df['total_protein'] = df.apply(lambda x: x['total_protein'] if x['total_protein'] <= 35 else x['total_protein'] / 10, axis=1)"
   ]
  },
  {
   "cell_type": "code",
   "execution_count": 26,
   "metadata": {},
   "outputs": [
    {
     "data": {
      "text/plain": [
       "<matplotlib.axes._subplots.AxesSubplot at 0xb731d88>"
      ]
     },
     "execution_count": 26,
     "metadata": {},
     "output_type": "execute_result"
    },
    {
     "data": {
      "image/png": "[encoded data removed]",
      "text/plain": [
       "<Figure size 432x288 with 1 Axes>"
      ]
     },
     "metadata": {
      "needs_background": "light"
     },
     "output_type": "display_data"
    }
   ],
   "source": [
    "df['total_protein'].hist()"
   ]
  },
  {
   "cell_type": "markdown",
   "metadata": {},
   "source": [
    "** После обраюотки значений гистограмма показыает, что большинство значений в пределах нормы."
   ]
  },
  {
   "cell_type": "markdown",
   "metadata": {},
   "source": [
    "** outcome ** - выбросов нет"
   ]
  },
  {
   "cell_type": "code",
   "execution_count": 27,
   "metadata": {},
   "outputs": [
    {
     "data": {
      "text/plain": [
       "<matplotlib.axes._subplots.AxesSubplot at 0xb7fa708>"
      ]
     },
     "execution_count": 27,
     "metadata": {},
     "output_type": "execute_result"
    },
    {
     "data": {
      "image/png": "[encoded data removed]",
      "text/plain": [
       "<Figure size 432x288 with 1 Axes>"
      ]
     },
     "metadata": {
      "needs_background": "light"
     },
     "output_type": "display_data"
    }
   ],
   "source": [
    "df['outcome'].plot(kind='box')"
   ]
  },
  {
   "cell_type": "code",
   "execution_count": null,
   "metadata": {},
   "outputs": [],
   "source": []
  },
  {
   "cell_type": "markdown",
   "metadata": {},
   "source": [
    "** Задание 3 **"
   ]
  },
  {
   "cell_type": "markdown",
   "metadata": {},
   "source": [
    "** Отработать нужно 6 колонок из 8-ми"
   ]
  },
  {
   "cell_type": "code",
   "execution_count": 29,
   "metadata": {},
   "outputs": [
    {
     "name": "stdout",
     "output_type": "stream",
     "text": [
      "surgery - 0.3%\n",
      "age - 0.0%\n",
      "Hospital_Number - 0.0%\n",
      "pulse - 8.0%\n",
      "respiratory_rate - 19.3%\n",
      "mucous_membranes - 15.7%\n",
      "total_protein - 11.0%\n",
      "outcome - 0.3%\n"
     ]
    }
   ],
   "source": [
    "for col in df.columns:\n",
    "    pct_missing = df[col].isna().mean()\n",
    "    print(f'{col} - {pct_missing :.1%}')"
   ]
  },
  {
   "cell_type": "markdown",
   "metadata": {},
   "source": [
    "** surgery and outcome"
   ]
  },
  {
   "cell_type": "code",
   "execution_count": 30,
   "metadata": {},
   "outputs": [
    {
     "data": {
      "text/html": [
       "<div>\n",
       "<style scoped>\n",
       "    .dataframe tbody tr th:only-of-type {\n",
       "        vertical-align: middle;\n",
       "    }\n",
       "\n",
       "    .dataframe tbody tr th {\n",
       "        vertical-align: top;\n",
       "    }\n",
       "\n",
       "    .dataframe thead th {\n",
       "        text-align: right;\n",
       "    }\n",
       "</style>\n",
       "<table border=\"1\" class=\"dataframe\">\n",
       "  <thead>\n",
       "    <tr style=\"text-align: right;\">\n",
       "      <th></th>\n",
       "      <th>surgery</th>\n",
       "      <th>age</th>\n",
       "      <th>Hospital_Number</th>\n",
       "      <th>pulse</th>\n",
       "      <th>respiratory_rate</th>\n",
       "      <th>mucous_membranes</th>\n",
       "      <th>total_protein</th>\n",
       "      <th>outcome</th>\n",
       "    </tr>\n",
       "  </thead>\n",
       "  <tbody>\n",
       "    <tr>\n",
       "      <th>132</th>\n",
       "      <td>NaN</td>\n",
       "      <td>1</td>\n",
       "      <td>534572</td>\n",
       "      <td>48.0</td>\n",
       "      <td>20.0</td>\n",
       "      <td>3.0</td>\n",
       "      <td>7.3</td>\n",
       "      <td>NaN</td>\n",
       "    </tr>\n",
       "  </tbody>\n",
       "</table>\n",
       "</div>"
      ],
      "text/plain": [
       "     surgery  age  Hospital_Number  pulse  respiratory_rate  mucous_membranes  \\\n",
       "132      NaN    1           534572   48.0              20.0               3.0   \n",
       "\n",
       "     total_protein  outcome  \n",
       "132            7.3      NaN  "
      ]
     },
     "execution_count": 30,
     "metadata": {},
     "output_type": "execute_result"
    }
   ],
   "source": [
    "fg = df.loc[df.surgery.isna()]\n",
    "fg"
   ]
  },
  {
   "cell_type": "markdown",
   "metadata": {},
   "source": [
    "** Выборка показывает, для колонок surgery и outcome значения отсутствуют у одной лошади. \n",
    "Статистика показывает, что большинство лошадей выздоровело после проведения хирургии:"
   ]
  },
  {
   "cell_type": "code",
   "execution_count": 32,
   "metadata": {},
   "outputs": [
    {
     "data": {
      "text/plain": [
       "1.0    180\n",
       "2.0    119\n",
       "Name: surgery, dtype: int64"
      ]
     },
     "execution_count": 32,
     "metadata": {},
     "output_type": "execute_result"
    }
   ],
   "source": [
    "df.surgery.value_counts()"
   ]
  },
  {
   "cell_type": "code",
   "execution_count": 34,
   "metadata": {},
   "outputs": [
    {
     "data": {
      "text/plain": [
       "1.0    178\n",
       "2.0     77\n",
       "3.0     44\n",
       "Name: outcome, dtype: int64"
      ]
     },
     "execution_count": 34,
     "metadata": {},
     "output_type": "execute_result"
    }
   ],
   "source": [
    "df.outcome.value_counts()"
   ]
  },
  {
   "cell_type": "markdown",
   "metadata": {},
   "source": [
    "** Поэтому поставим для этой лошади в пропушенных значениях по 1"
   ]
  },
  {
   "cell_type": "code",
   "execution_count": 42,
   "metadata": {},
   "outputs": [],
   "source": [
    "df.loc[df.surgery.isna(), ['surgery', 'outcome']] = 1"
   ]
  },
  {
   "cell_type": "code",
   "execution_count": null,
   "metadata": {},
   "outputs": [],
   "source": []
  },
  {
   "cell_type": "markdown",
   "metadata": {},
   "source": [
    "** pulse ** - заменим пустые значениями медианы"
   ]
  },
  {
   "cell_type": "code",
   "execution_count": 46,
   "metadata": {},
   "outputs": [
    {
     "data": {
      "text/html": [
       "<div>\n",
       "<style scoped>\n",
       "    .dataframe tbody tr th:only-of-type {\n",
       "        vertical-align: middle;\n",
       "    }\n",
       "\n",
       "    .dataframe tbody tr th {\n",
       "        vertical-align: top;\n",
       "    }\n",
       "\n",
       "    .dataframe thead th {\n",
       "        text-align: right;\n",
       "    }\n",
       "</style>\n",
       "<table border=\"1\" class=\"dataframe\">\n",
       "  <thead>\n",
       "    <tr style=\"text-align: right;\">\n",
       "      <th></th>\n",
       "      <th>surgery</th>\n",
       "      <th>age</th>\n",
       "      <th>Hospital_Number</th>\n",
       "      <th>pulse</th>\n",
       "      <th>respiratory_rate</th>\n",
       "      <th>mucous_membranes</th>\n",
       "      <th>total_protein</th>\n",
       "      <th>outcome</th>\n",
       "    </tr>\n",
       "  </thead>\n",
       "  <tbody>\n",
       "    <tr>\n",
       "      <th>count</th>\n",
       "      <td>300.000000</td>\n",
       "      <td>300.000000</td>\n",
       "      <td>3.000000e+02</td>\n",
       "      <td>276.000000</td>\n",
       "      <td>242.000000</td>\n",
       "      <td>253.000000</td>\n",
       "      <td>267.000000</td>\n",
       "      <td>300.000000</td>\n",
       "    </tr>\n",
       "    <tr>\n",
       "      <th>mean</th>\n",
       "      <td>1.396667</td>\n",
       "      <td>1.080000</td>\n",
       "      <td>1.085889e+06</td>\n",
       "      <td>70.101449</td>\n",
       "      <td>30.417355</td>\n",
       "      <td>2.853755</td>\n",
       "      <td>6.854682</td>\n",
       "      <td>1.550000</td>\n",
       "    </tr>\n",
       "    <tr>\n",
       "      <th>std</th>\n",
       "      <td>0.490023</td>\n",
       "      <td>0.271746</td>\n",
       "      <td>1.529801e+06</td>\n",
       "      <td>25.924868</td>\n",
       "      <td>17.642231</td>\n",
       "      <td>1.620294</td>\n",
       "      <td>1.091425</td>\n",
       "      <td>0.736642</td>\n",
       "    </tr>\n",
       "    <tr>\n",
       "      <th>min</th>\n",
       "      <td>1.000000</td>\n",
       "      <td>1.000000</td>\n",
       "      <td>5.184760e+05</td>\n",
       "      <td>30.000000</td>\n",
       "      <td>8.000000</td>\n",
       "      <td>1.000000</td>\n",
       "      <td>3.300000</td>\n",
       "      <td>1.000000</td>\n",
       "    </tr>\n",
       "    <tr>\n",
       "      <th>25%</th>\n",
       "      <td>1.000000</td>\n",
       "      <td>1.000000</td>\n",
       "      <td>5.289040e+05</td>\n",
       "      <td>48.000000</td>\n",
       "      <td>18.500000</td>\n",
       "      <td>1.000000</td>\n",
       "      <td>6.200000</td>\n",
       "      <td>1.000000</td>\n",
       "    </tr>\n",
       "    <tr>\n",
       "      <th>50%</th>\n",
       "      <td>1.000000</td>\n",
       "      <td>1.000000</td>\n",
       "      <td>5.303055e+05</td>\n",
       "      <td>64.000000</td>\n",
       "      <td>24.500000</td>\n",
       "      <td>3.000000</td>\n",
       "      <td>6.700000</td>\n",
       "      <td>1.000000</td>\n",
       "    </tr>\n",
       "    <tr>\n",
       "      <th>75%</th>\n",
       "      <td>2.000000</td>\n",
       "      <td>1.000000</td>\n",
       "      <td>5.347275e+05</td>\n",
       "      <td>88.000000</td>\n",
       "      <td>36.000000</td>\n",
       "      <td>4.000000</td>\n",
       "      <td>7.500000</td>\n",
       "      <td>2.000000</td>\n",
       "    </tr>\n",
       "    <tr>\n",
       "      <th>max</th>\n",
       "      <td>2.000000</td>\n",
       "      <td>2.000000</td>\n",
       "      <td>5.305629e+06</td>\n",
       "      <td>146.000000</td>\n",
       "      <td>96.000000</td>\n",
       "      <td>6.000000</td>\n",
       "      <td>13.000000</td>\n",
       "      <td>3.000000</td>\n",
       "    </tr>\n",
       "  </tbody>\n",
       "</table>\n",
       "</div>"
      ],
      "text/plain": [
       "          surgery         age  Hospital_Number       pulse  respiratory_rate  \\\n",
       "count  300.000000  300.000000     3.000000e+02  276.000000        242.000000   \n",
       "mean     1.396667    1.080000     1.085889e+06   70.101449         30.417355   \n",
       "std      0.490023    0.271746     1.529801e+06   25.924868         17.642231   \n",
       "min      1.000000    1.000000     5.184760e+05   30.000000          8.000000   \n",
       "25%      1.000000    1.000000     5.289040e+05   48.000000         18.500000   \n",
       "50%      1.000000    1.000000     5.303055e+05   64.000000         24.500000   \n",
       "75%      2.000000    1.000000     5.347275e+05   88.000000         36.000000   \n",
       "max      2.000000    2.000000     5.305629e+06  146.000000         96.000000   \n",
       "\n",
       "       mucous_membranes  total_protein     outcome  \n",
       "count        253.000000     267.000000  300.000000  \n",
       "mean           2.853755       6.854682    1.550000  \n",
       "std            1.620294       1.091425    0.736642  \n",
       "min            1.000000       3.300000    1.000000  \n",
       "25%            1.000000       6.200000    1.000000  \n",
       "50%            3.000000       6.700000    1.000000  \n",
       "75%            4.000000       7.500000    2.000000  \n",
       "max            6.000000      13.000000    3.000000  "
      ]
     },
     "execution_count": 46,
     "metadata": {},
     "output_type": "execute_result"
    }
   ],
   "source": [
    "df.describe()"
   ]
  },
  {
   "cell_type": "code",
   "execution_count": 47,
   "metadata": {},
   "outputs": [],
   "source": [
    "df.pulse.fillna(df.pulse.median(), inplace=True)"
   ]
  },
  {
   "cell_type": "code",
   "execution_count": 48,
   "metadata": {},
   "outputs": [
    {
     "data": {
      "text/html": [
       "<div>\n",
       "<style scoped>\n",
       "    .dataframe tbody tr th:only-of-type {\n",
       "        vertical-align: middle;\n",
       "    }\n",
       "\n",
       "    .dataframe tbody tr th {\n",
       "        vertical-align: top;\n",
       "    }\n",
       "\n",
       "    .dataframe thead th {\n",
       "        text-align: right;\n",
       "    }\n",
       "</style>\n",
       "<table border=\"1\" class=\"dataframe\">\n",
       "  <thead>\n",
       "    <tr style=\"text-align: right;\">\n",
       "      <th></th>\n",
       "      <th>surgery</th>\n",
       "      <th>age</th>\n",
       "      <th>Hospital_Number</th>\n",
       "      <th>pulse</th>\n",
       "      <th>respiratory_rate</th>\n",
       "      <th>mucous_membranes</th>\n",
       "      <th>total_protein</th>\n",
       "      <th>outcome</th>\n",
       "    </tr>\n",
       "  </thead>\n",
       "  <tbody>\n",
       "    <tr>\n",
       "      <th>count</th>\n",
       "      <td>300.000000</td>\n",
       "      <td>300.000000</td>\n",
       "      <td>3.000000e+02</td>\n",
       "      <td>300.000000</td>\n",
       "      <td>242.000000</td>\n",
       "      <td>253.000000</td>\n",
       "      <td>267.000000</td>\n",
       "      <td>300.000000</td>\n",
       "    </tr>\n",
       "    <tr>\n",
       "      <th>mean</th>\n",
       "      <td>1.396667</td>\n",
       "      <td>1.080000</td>\n",
       "      <td>1.085889e+06</td>\n",
       "      <td>69.613333</td>\n",
       "      <td>30.417355</td>\n",
       "      <td>2.853755</td>\n",
       "      <td>6.854682</td>\n",
       "      <td>1.550000</td>\n",
       "    </tr>\n",
       "    <tr>\n",
       "      <th>std</th>\n",
       "      <td>0.490023</td>\n",
       "      <td>0.271746</td>\n",
       "      <td>1.529801e+06</td>\n",
       "      <td>24.917868</td>\n",
       "      <td>17.642231</td>\n",
       "      <td>1.620294</td>\n",
       "      <td>1.091425</td>\n",
       "      <td>0.736642</td>\n",
       "    </tr>\n",
       "    <tr>\n",
       "      <th>min</th>\n",
       "      <td>1.000000</td>\n",
       "      <td>1.000000</td>\n",
       "      <td>5.184760e+05</td>\n",
       "      <td>30.000000</td>\n",
       "      <td>8.000000</td>\n",
       "      <td>1.000000</td>\n",
       "      <td>3.300000</td>\n",
       "      <td>1.000000</td>\n",
       "    </tr>\n",
       "    <tr>\n",
       "      <th>25%</th>\n",
       "      <td>1.000000</td>\n",
       "      <td>1.000000</td>\n",
       "      <td>5.289040e+05</td>\n",
       "      <td>48.000000</td>\n",
       "      <td>18.500000</td>\n",
       "      <td>1.000000</td>\n",
       "      <td>6.200000</td>\n",
       "      <td>1.000000</td>\n",
       "    </tr>\n",
       "    <tr>\n",
       "      <th>50%</th>\n",
       "      <td>1.000000</td>\n",
       "      <td>1.000000</td>\n",
       "      <td>5.303055e+05</td>\n",
       "      <td>64.000000</td>\n",
       "      <td>24.500000</td>\n",
       "      <td>3.000000</td>\n",
       "      <td>6.700000</td>\n",
       "      <td>1.000000</td>\n",
       "    </tr>\n",
       "    <tr>\n",
       "      <th>75%</th>\n",
       "      <td>2.000000</td>\n",
       "      <td>1.000000</td>\n",
       "      <td>5.347275e+05</td>\n",
       "      <td>86.000000</td>\n",
       "      <td>36.000000</td>\n",
       "      <td>4.000000</td>\n",
       "      <td>7.500000</td>\n",
       "      <td>2.000000</td>\n",
       "    </tr>\n",
       "    <tr>\n",
       "      <th>max</th>\n",
       "      <td>2.000000</td>\n",
       "      <td>2.000000</td>\n",
       "      <td>5.305629e+06</td>\n",
       "      <td>146.000000</td>\n",
       "      <td>96.000000</td>\n",
       "      <td>6.000000</td>\n",
       "      <td>13.000000</td>\n",
       "      <td>3.000000</td>\n",
       "    </tr>\n",
       "  </tbody>\n",
       "</table>\n",
       "</div>"
      ],
      "text/plain": [
       "          surgery         age  Hospital_Number       pulse  respiratory_rate  \\\n",
       "count  300.000000  300.000000     3.000000e+02  300.000000        242.000000   \n",
       "mean     1.396667    1.080000     1.085889e+06   69.613333         30.417355   \n",
       "std      0.490023    0.271746     1.529801e+06   24.917868         17.642231   \n",
       "min      1.000000    1.000000     5.184760e+05   30.000000          8.000000   \n",
       "25%      1.000000    1.000000     5.289040e+05   48.000000         18.500000   \n",
       "50%      1.000000    1.000000     5.303055e+05   64.000000         24.500000   \n",
       "75%      2.000000    1.000000     5.347275e+05   86.000000         36.000000   \n",
       "max      2.000000    2.000000     5.305629e+06  146.000000         96.000000   \n",
       "\n",
       "       mucous_membranes  total_protein     outcome  \n",
       "count        253.000000     267.000000  300.000000  \n",
       "mean           2.853755       6.854682    1.550000  \n",
       "std            1.620294       1.091425    0.736642  \n",
       "min            1.000000       3.300000    1.000000  \n",
       "25%            1.000000       6.200000    1.000000  \n",
       "50%            3.000000       6.700000    1.000000  \n",
       "75%            4.000000       7.500000    2.000000  \n",
       "max            6.000000      13.000000    3.000000  "
      ]
     },
     "execution_count": 48,
     "metadata": {},
     "output_type": "execute_result"
    }
   ],
   "source": [
    "df.describe()"
   ]
  },
  {
   "cell_type": "markdown",
   "metadata": {},
   "source": [
    "** Замена пропущенных значений медианой практически не повлияла на статистические показатели колонки pulse"
   ]
  },
  {
   "cell_type": "markdown",
   "metadata": {},
   "source": [
    "** respiratory_rate ** - заполним пустые пропуски значениями медианы"
   ]
  },
  {
   "cell_type": "code",
   "execution_count": 49,
   "metadata": {},
   "outputs": [],
   "source": [
    "df.respiratory_rate.fillna(df.respiratory_rate.median(), inplace=True)"
   ]
  },
  {
   "cell_type": "code",
   "execution_count": 50,
   "metadata": {},
   "outputs": [
    {
     "data": {
      "text/html": [
       "<div>\n",
       "<style scoped>\n",
       "    .dataframe tbody tr th:only-of-type {\n",
       "        vertical-align: middle;\n",
       "    }\n",
       "\n",
       "    .dataframe tbody tr th {\n",
       "        vertical-align: top;\n",
       "    }\n",
       "\n",
       "    .dataframe thead th {\n",
       "        text-align: right;\n",
       "    }\n",
       "</style>\n",
       "<table border=\"1\" class=\"dataframe\">\n",
       "  <thead>\n",
       "    <tr style=\"text-align: right;\">\n",
       "      <th></th>\n",
       "      <th>surgery</th>\n",
       "      <th>age</th>\n",
       "      <th>Hospital_Number</th>\n",
       "      <th>pulse</th>\n",
       "      <th>respiratory_rate</th>\n",
       "      <th>mucous_membranes</th>\n",
       "      <th>total_protein</th>\n",
       "      <th>outcome</th>\n",
       "    </tr>\n",
       "  </thead>\n",
       "  <tbody>\n",
       "    <tr>\n",
       "      <th>count</th>\n",
       "      <td>300.000000</td>\n",
       "      <td>300.000000</td>\n",
       "      <td>3.000000e+02</td>\n",
       "      <td>300.000000</td>\n",
       "      <td>300.000000</td>\n",
       "      <td>253.000000</td>\n",
       "      <td>267.000000</td>\n",
       "      <td>300.000000</td>\n",
       "    </tr>\n",
       "    <tr>\n",
       "      <th>mean</th>\n",
       "      <td>1.396667</td>\n",
       "      <td>1.080000</td>\n",
       "      <td>1.085889e+06</td>\n",
       "      <td>69.613333</td>\n",
       "      <td>29.273333</td>\n",
       "      <td>2.853755</td>\n",
       "      <td>6.854682</td>\n",
       "      <td>1.550000</td>\n",
       "    </tr>\n",
       "    <tr>\n",
       "      <th>std</th>\n",
       "      <td>0.490023</td>\n",
       "      <td>0.271746</td>\n",
       "      <td>1.529801e+06</td>\n",
       "      <td>24.917868</td>\n",
       "      <td>16.010979</td>\n",
       "      <td>1.620294</td>\n",
       "      <td>1.091425</td>\n",
       "      <td>0.736642</td>\n",
       "    </tr>\n",
       "    <tr>\n",
       "      <th>min</th>\n",
       "      <td>1.000000</td>\n",
       "      <td>1.000000</td>\n",
       "      <td>5.184760e+05</td>\n",
       "      <td>30.000000</td>\n",
       "      <td>8.000000</td>\n",
       "      <td>1.000000</td>\n",
       "      <td>3.300000</td>\n",
       "      <td>1.000000</td>\n",
       "    </tr>\n",
       "    <tr>\n",
       "      <th>25%</th>\n",
       "      <td>1.000000</td>\n",
       "      <td>1.000000</td>\n",
       "      <td>5.289040e+05</td>\n",
       "      <td>48.000000</td>\n",
       "      <td>20.000000</td>\n",
       "      <td>1.000000</td>\n",
       "      <td>6.200000</td>\n",
       "      <td>1.000000</td>\n",
       "    </tr>\n",
       "    <tr>\n",
       "      <th>50%</th>\n",
       "      <td>1.000000</td>\n",
       "      <td>1.000000</td>\n",
       "      <td>5.303055e+05</td>\n",
       "      <td>64.000000</td>\n",
       "      <td>24.500000</td>\n",
       "      <td>3.000000</td>\n",
       "      <td>6.700000</td>\n",
       "      <td>1.000000</td>\n",
       "    </tr>\n",
       "    <tr>\n",
       "      <th>75%</th>\n",
       "      <td>2.000000</td>\n",
       "      <td>1.000000</td>\n",
       "      <td>5.347275e+05</td>\n",
       "      <td>86.000000</td>\n",
       "      <td>34.250000</td>\n",
       "      <td>4.000000</td>\n",
       "      <td>7.500000</td>\n",
       "      <td>2.000000</td>\n",
       "    </tr>\n",
       "    <tr>\n",
       "      <th>max</th>\n",
       "      <td>2.000000</td>\n",
       "      <td>2.000000</td>\n",
       "      <td>5.305629e+06</td>\n",
       "      <td>146.000000</td>\n",
       "      <td>96.000000</td>\n",
       "      <td>6.000000</td>\n",
       "      <td>13.000000</td>\n",
       "      <td>3.000000</td>\n",
       "    </tr>\n",
       "  </tbody>\n",
       "</table>\n",
       "</div>"
      ],
      "text/plain": [
       "          surgery         age  Hospital_Number       pulse  respiratory_rate  \\\n",
       "count  300.000000  300.000000     3.000000e+02  300.000000        300.000000   \n",
       "mean     1.396667    1.080000     1.085889e+06   69.613333         29.273333   \n",
       "std      0.490023    0.271746     1.529801e+06   24.917868         16.010979   \n",
       "min      1.000000    1.000000     5.184760e+05   30.000000          8.000000   \n",
       "25%      1.000000    1.000000     5.289040e+05   48.000000         20.000000   \n",
       "50%      1.000000    1.000000     5.303055e+05   64.000000         24.500000   \n",
       "75%      2.000000    1.000000     5.347275e+05   86.000000         34.250000   \n",
       "max      2.000000    2.000000     5.305629e+06  146.000000         96.000000   \n",
       "\n",
       "       mucous_membranes  total_protein     outcome  \n",
       "count        253.000000     267.000000  300.000000  \n",
       "mean           2.853755       6.854682    1.550000  \n",
       "std            1.620294       1.091425    0.736642  \n",
       "min            1.000000       3.300000    1.000000  \n",
       "25%            1.000000       6.200000    1.000000  \n",
       "50%            3.000000       6.700000    1.000000  \n",
       "75%            4.000000       7.500000    2.000000  \n",
       "max            6.000000      13.000000    3.000000  "
      ]
     },
     "execution_count": 50,
     "metadata": {},
     "output_type": "execute_result"
    }
   ],
   "source": [
    "df.describe()"
   ]
  },
  {
   "cell_type": "markdown",
   "metadata": {},
   "source": [
    "** Замена пропущенных значений медианой практически не повлияла на статистические показатели колонки respiratory_rate"
   ]
  },
  {
   "cell_type": "markdown",
   "metadata": {},
   "source": [
    "** total_protein ** - запоним пустоты значениями медианы"
   ]
  },
  {
   "cell_type": "code",
   "execution_count": 51,
   "metadata": {},
   "outputs": [],
   "source": [
    "df.total_protein.fillna(df.total_protein.median(), inplace=True)"
   ]
  },
  {
   "cell_type": "code",
   "execution_count": 52,
   "metadata": {},
   "outputs": [
    {
     "data": {
      "text/html": [
       "<div>\n",
       "<style scoped>\n",
       "    .dataframe tbody tr th:only-of-type {\n",
       "        vertical-align: middle;\n",
       "    }\n",
       "\n",
       "    .dataframe tbody tr th {\n",
       "        vertical-align: top;\n",
       "    }\n",
       "\n",
       "    .dataframe thead th {\n",
       "        text-align: right;\n",
       "    }\n",
       "</style>\n",
       "<table border=\"1\" class=\"dataframe\">\n",
       "  <thead>\n",
       "    <tr style=\"text-align: right;\">\n",
       "      <th></th>\n",
       "      <th>surgery</th>\n",
       "      <th>age</th>\n",
       "      <th>Hospital_Number</th>\n",
       "      <th>pulse</th>\n",
       "      <th>respiratory_rate</th>\n",
       "      <th>mucous_membranes</th>\n",
       "      <th>total_protein</th>\n",
       "      <th>outcome</th>\n",
       "    </tr>\n",
       "  </thead>\n",
       "  <tbody>\n",
       "    <tr>\n",
       "      <th>count</th>\n",
       "      <td>300.000000</td>\n",
       "      <td>300.000000</td>\n",
       "      <td>3.000000e+02</td>\n",
       "      <td>300.000000</td>\n",
       "      <td>300.000000</td>\n",
       "      <td>253.000000</td>\n",
       "      <td>300.000000</td>\n",
       "      <td>300.000000</td>\n",
       "    </tr>\n",
       "    <tr>\n",
       "      <th>mean</th>\n",
       "      <td>1.396667</td>\n",
       "      <td>1.080000</td>\n",
       "      <td>1.085889e+06</td>\n",
       "      <td>69.613333</td>\n",
       "      <td>29.273333</td>\n",
       "      <td>2.853755</td>\n",
       "      <td>6.837667</td>\n",
       "      <td>1.550000</td>\n",
       "    </tr>\n",
       "    <tr>\n",
       "      <th>std</th>\n",
       "      <td>0.490023</td>\n",
       "      <td>0.271746</td>\n",
       "      <td>1.529801e+06</td>\n",
       "      <td>24.917868</td>\n",
       "      <td>16.010979</td>\n",
       "      <td>1.620294</td>\n",
       "      <td>1.030577</td>\n",
       "      <td>0.736642</td>\n",
       "    </tr>\n",
       "    <tr>\n",
       "      <th>min</th>\n",
       "      <td>1.000000</td>\n",
       "      <td>1.000000</td>\n",
       "      <td>5.184760e+05</td>\n",
       "      <td>30.000000</td>\n",
       "      <td>8.000000</td>\n",
       "      <td>1.000000</td>\n",
       "      <td>3.300000</td>\n",
       "      <td>1.000000</td>\n",
       "    </tr>\n",
       "    <tr>\n",
       "      <th>25%</th>\n",
       "      <td>1.000000</td>\n",
       "      <td>1.000000</td>\n",
       "      <td>5.289040e+05</td>\n",
       "      <td>48.000000</td>\n",
       "      <td>20.000000</td>\n",
       "      <td>1.000000</td>\n",
       "      <td>6.300000</td>\n",
       "      <td>1.000000</td>\n",
       "    </tr>\n",
       "    <tr>\n",
       "      <th>50%</th>\n",
       "      <td>1.000000</td>\n",
       "      <td>1.000000</td>\n",
       "      <td>5.303055e+05</td>\n",
       "      <td>64.000000</td>\n",
       "      <td>24.500000</td>\n",
       "      <td>3.000000</td>\n",
       "      <td>6.700000</td>\n",
       "      <td>1.000000</td>\n",
       "    </tr>\n",
       "    <tr>\n",
       "      <th>75%</th>\n",
       "      <td>2.000000</td>\n",
       "      <td>1.000000</td>\n",
       "      <td>5.347275e+05</td>\n",
       "      <td>86.000000</td>\n",
       "      <td>34.250000</td>\n",
       "      <td>4.000000</td>\n",
       "      <td>7.400000</td>\n",
       "      <td>2.000000</td>\n",
       "    </tr>\n",
       "    <tr>\n",
       "      <th>max</th>\n",
       "      <td>2.000000</td>\n",
       "      <td>2.000000</td>\n",
       "      <td>5.305629e+06</td>\n",
       "      <td>146.000000</td>\n",
       "      <td>96.000000</td>\n",
       "      <td>6.000000</td>\n",
       "      <td>13.000000</td>\n",
       "      <td>3.000000</td>\n",
       "    </tr>\n",
       "  </tbody>\n",
       "</table>\n",
       "</div>"
      ],
      "text/plain": [
       "          surgery         age  Hospital_Number       pulse  respiratory_rate  \\\n",
       "count  300.000000  300.000000     3.000000e+02  300.000000        300.000000   \n",
       "mean     1.396667    1.080000     1.085889e+06   69.613333         29.273333   \n",
       "std      0.490023    0.271746     1.529801e+06   24.917868         16.010979   \n",
       "min      1.000000    1.000000     5.184760e+05   30.000000          8.000000   \n",
       "25%      1.000000    1.000000     5.289040e+05   48.000000         20.000000   \n",
       "50%      1.000000    1.000000     5.303055e+05   64.000000         24.500000   \n",
       "75%      2.000000    1.000000     5.347275e+05   86.000000         34.250000   \n",
       "max      2.000000    2.000000     5.305629e+06  146.000000         96.000000   \n",
       "\n",
       "       mucous_membranes  total_protein     outcome  \n",
       "count        253.000000     300.000000  300.000000  \n",
       "mean           2.853755       6.837667    1.550000  \n",
       "std            1.620294       1.030577    0.736642  \n",
       "min            1.000000       3.300000    1.000000  \n",
       "25%            1.000000       6.300000    1.000000  \n",
       "50%            3.000000       6.700000    1.000000  \n",
       "75%            4.000000       7.400000    2.000000  \n",
       "max            6.000000      13.000000    3.000000  "
      ]
     },
     "execution_count": 52,
     "metadata": {},
     "output_type": "execute_result"
    }
   ],
   "source": [
    "df.describe()"
   ]
  },
  {
   "cell_type": "markdown",
   "metadata": {},
   "source": [
    "** Замена пропущенных значений медианой практически не повлияла на статистические показатели колонки total_protein"
   ]
  },
  {
   "cell_type": "markdown",
   "metadata": {},
   "source": [
    "** mucous_membranes **"
   ]
  },
  {
   "cell_type": "markdown",
   "metadata": {},
   "source": [
    "** Попробуем распределить пропущенные значения в соотвествтии с разпределением имеющихся значений по значениям [1-6]"
   ]
  },
  {
   "cell_type": "code",
   "execution_count": 139,
   "metadata": {},
   "outputs": [
    {
     "data": {
      "text/plain": [
       "[[0, 7, 17, 23, 25, 28, 37, 39, 41, 53, 56, 70, 72, 74, 87],\n",
       " [90, 111, 113, 127, 130, 139, 149, 160, 161, 162, 169],\n",
       " [175, 188, 197, 202, 207, 216, 217, 220],\n",
       " [221, 227, 229, 230, 232, 239],\n",
       " [243, 262, 274, 283, 287],\n",
       " [288, 299]]"
      ]
     },
     "execution_count": 139,
     "metadata": {},
     "output_type": "execute_result"
    }
   ],
   "source": [
    "#Определим список индексов для каждого значения mucous_membranes от 1 до 6\n",
    "ghj = df.mucous_membranes.value_counts()\n",
    "ERT = []\n",
    "for i in range (6):\n",
    "    if len(ERT) == 0:\n",
    "        ERT.append(int(round(47 * ghj.iloc[i]/253)))\n",
    "    else:\n",
    "        ERT.append(int(round(47 * ghj.iloc[i]/253)) + ERT[i-1])\n",
    "ERT[-1] = 47\n",
    "POS= []\n",
    "pos = []\n",
    "k = 0\n",
    "for i in ERT:\n",
    "    for j in range(k, i):\n",
    "        pos.append(qwwe.index[j])\n",
    "    POS.append(pos)\n",
    "    pos = []\n",
    "    k = i\n",
    "POS"
   ]
  },
  {
   "cell_type": "code",
   "execution_count": 143,
   "metadata": {},
   "outputs": [],
   "source": [
    "#Теперь для каждого списка индексов присвоим соответствующее значение mucous_membranes\n",
    "for t in range (6):\n",
    "    df.loc[POS[t], ['mucous_membranes']] = float(t + 1)"
   ]
  },
  {
   "cell_type": "code",
   "execution_count": 144,
   "metadata": {},
   "outputs": [
    {
     "data": {
      "text/html": [
       "<div>\n",
       "<style scoped>\n",
       "    .dataframe tbody tr th:only-of-type {\n",
       "        vertical-align: middle;\n",
       "    }\n",
       "\n",
       "    .dataframe tbody tr th {\n",
       "        vertical-align: top;\n",
       "    }\n",
       "\n",
       "    .dataframe thead th {\n",
       "        text-align: right;\n",
       "    }\n",
       "</style>\n",
       "<table border=\"1\" class=\"dataframe\">\n",
       "  <thead>\n",
       "    <tr style=\"text-align: right;\">\n",
       "      <th></th>\n",
       "      <th>surgery</th>\n",
       "      <th>age</th>\n",
       "      <th>Hospital_Number</th>\n",
       "      <th>pulse</th>\n",
       "      <th>respiratory_rate</th>\n",
       "      <th>mucous_membranes</th>\n",
       "      <th>total_protein</th>\n",
       "      <th>outcome</th>\n",
       "    </tr>\n",
       "  </thead>\n",
       "  <tbody>\n",
       "    <tr>\n",
       "      <th>count</th>\n",
       "      <td>300.000000</td>\n",
       "      <td>300.000000</td>\n",
       "      <td>3.000000e+02</td>\n",
       "      <td>300.000000</td>\n",
       "      <td>300.000000</td>\n",
       "      <td>300.000000</td>\n",
       "      <td>300.000000</td>\n",
       "      <td>300.000000</td>\n",
       "    </tr>\n",
       "    <tr>\n",
       "      <th>mean</th>\n",
       "      <td>1.396667</td>\n",
       "      <td>1.080000</td>\n",
       "      <td>1.085889e+06</td>\n",
       "      <td>69.613333</td>\n",
       "      <td>29.273333</td>\n",
       "      <td>2.813333</td>\n",
       "      <td>6.837667</td>\n",
       "      <td>1.550000</td>\n",
       "    </tr>\n",
       "    <tr>\n",
       "      <th>std</th>\n",
       "      <td>0.490023</td>\n",
       "      <td>0.271746</td>\n",
       "      <td>1.529801e+06</td>\n",
       "      <td>24.917868</td>\n",
       "      <td>16.010979</td>\n",
       "      <td>1.606370</td>\n",
       "      <td>1.030577</td>\n",
       "      <td>0.736642</td>\n",
       "    </tr>\n",
       "    <tr>\n",
       "      <th>min</th>\n",
       "      <td>1.000000</td>\n",
       "      <td>1.000000</td>\n",
       "      <td>5.184760e+05</td>\n",
       "      <td>30.000000</td>\n",
       "      <td>8.000000</td>\n",
       "      <td>1.000000</td>\n",
       "      <td>3.300000</td>\n",
       "      <td>1.000000</td>\n",
       "    </tr>\n",
       "    <tr>\n",
       "      <th>25%</th>\n",
       "      <td>1.000000</td>\n",
       "      <td>1.000000</td>\n",
       "      <td>5.289040e+05</td>\n",
       "      <td>48.000000</td>\n",
       "      <td>20.000000</td>\n",
       "      <td>1.000000</td>\n",
       "      <td>6.300000</td>\n",
       "      <td>1.000000</td>\n",
       "    </tr>\n",
       "    <tr>\n",
       "      <th>50%</th>\n",
       "      <td>1.000000</td>\n",
       "      <td>1.000000</td>\n",
       "      <td>5.303055e+05</td>\n",
       "      <td>64.000000</td>\n",
       "      <td>24.500000</td>\n",
       "      <td>3.000000</td>\n",
       "      <td>6.700000</td>\n",
       "      <td>1.000000</td>\n",
       "    </tr>\n",
       "    <tr>\n",
       "      <th>75%</th>\n",
       "      <td>2.000000</td>\n",
       "      <td>1.000000</td>\n",
       "      <td>5.347275e+05</td>\n",
       "      <td>86.000000</td>\n",
       "      <td>34.250000</td>\n",
       "      <td>4.000000</td>\n",
       "      <td>7.400000</td>\n",
       "      <td>2.000000</td>\n",
       "    </tr>\n",
       "    <tr>\n",
       "      <th>max</th>\n",
       "      <td>2.000000</td>\n",
       "      <td>2.000000</td>\n",
       "      <td>5.305629e+06</td>\n",
       "      <td>146.000000</td>\n",
       "      <td>96.000000</td>\n",
       "      <td>6.000000</td>\n",
       "      <td>13.000000</td>\n",
       "      <td>3.000000</td>\n",
       "    </tr>\n",
       "  </tbody>\n",
       "</table>\n",
       "</div>"
      ],
      "text/plain": [
       "          surgery         age  Hospital_Number       pulse  respiratory_rate  \\\n",
       "count  300.000000  300.000000     3.000000e+02  300.000000        300.000000   \n",
       "mean     1.396667    1.080000     1.085889e+06   69.613333         29.273333   \n",
       "std      0.490023    0.271746     1.529801e+06   24.917868         16.010979   \n",
       "min      1.000000    1.000000     5.184760e+05   30.000000          8.000000   \n",
       "25%      1.000000    1.000000     5.289040e+05   48.000000         20.000000   \n",
       "50%      1.000000    1.000000     5.303055e+05   64.000000         24.500000   \n",
       "75%      2.000000    1.000000     5.347275e+05   86.000000         34.250000   \n",
       "max      2.000000    2.000000     5.305629e+06  146.000000         96.000000   \n",
       "\n",
       "       mucous_membranes  total_protein     outcome  \n",
       "count        300.000000     300.000000  300.000000  \n",
       "mean           2.813333       6.837667    1.550000  \n",
       "std            1.606370       1.030577    0.736642  \n",
       "min            1.000000       3.300000    1.000000  \n",
       "25%            1.000000       6.300000    1.000000  \n",
       "50%            3.000000       6.700000    1.000000  \n",
       "75%            4.000000       7.400000    2.000000  \n",
       "max            6.000000      13.000000    3.000000  "
      ]
     },
     "execution_count": 144,
     "metadata": {},
     "output_type": "execute_result"
    }
   ],
   "source": [
    "df.describe()"
   ]
  },
  {
   "cell_type": "code",
   "execution_count": 145,
   "metadata": {},
   "outputs": [
    {
     "data": {
      "text/html": [
       "<div>\n",
       "<style scoped>\n",
       "    .dataframe tbody tr th:only-of-type {\n",
       "        vertical-align: middle;\n",
       "    }\n",
       "\n",
       "    .dataframe tbody tr th {\n",
       "        vertical-align: top;\n",
       "    }\n",
       "\n",
       "    .dataframe thead th {\n",
       "        text-align: right;\n",
       "    }\n",
       "</style>\n",
       "<table border=\"1\" class=\"dataframe\">\n",
       "  <thead>\n",
       "    <tr style=\"text-align: right;\">\n",
       "      <th></th>\n",
       "      <th>surgery</th>\n",
       "      <th>age</th>\n",
       "      <th>Hospital_Number</th>\n",
       "      <th>pulse</th>\n",
       "      <th>respiratory_rate</th>\n",
       "      <th>mucous_membranes</th>\n",
       "      <th>total_protein</th>\n",
       "      <th>outcome</th>\n",
       "    </tr>\n",
       "  </thead>\n",
       "  <tbody>\n",
       "  </tbody>\n",
       "</table>\n",
       "</div>"
      ],
      "text/plain": [
       "Empty DataFrame\n",
       "Columns: [surgery, age, Hospital_Number, pulse, respiratory_rate, mucous_membranes, total_protein, outcome]\n",
       "Index: []"
      ]
     },
     "execution_count": 145,
     "metadata": {},
     "output_type": "execute_result"
    }
   ],
   "source": [
    "df.loc[df.mucous_membranes.isna()]"
   ]
  },
  {
   "cell_type": "code",
   "execution_count": null,
   "metadata": {},
   "outputs": [],
   "source": []
  }
 ],
 "metadata": {
  "kernelspec": {
   "display_name": "Python 3",
   "language": "python",
   "name": "python3"
  },
  "language_info": {
   "codemirror_mode": {
    "name": "ipython",
    "version": 3
   },
   "file_extension": ".py",
   "mimetype": "text/x-python",
   "name": "python",
   "nbconvert_exporter": "python",
   "pygments_lexer": "ipython3",
   "version": "3.7.6"
  }
 },
 "nbformat": 4,
 "nbformat_minor": 4
}
