{
 "cells": [
  {
   "cell_type": "code",
   "execution_count": 70,
   "metadata": {},
   "outputs": [],
   "source": [
    "import numpy as np"
   ]
  },
  {
   "cell_type": "code",
   "execution_count": 85,
   "metadata": {},
   "outputs": [],
   "source": [
    "trials = 10000000\n",
    "\n",
    "def func(trials):\n",
    "    win = 0\n",
    "    win_qty = 0\n",
    "    for _ in range(trials):\n",
    "        res = str(np.random.randint(0, 1000)).zfill(3)\n",
    "        if res == '777':\n",
    "            win += 200\n",
    "            win_qty += 1\n",
    "        elif res == '999':\n",
    "            win += 100\n",
    "            win_qty += 1\n",
    "        elif res == '555':\n",
    "            win += 50\n",
    "            win_qty += 1\n",
    "        elif res == '333':\n",
    "            win += 15\n",
    "            win_qty += 1\n",
    "        elif res == '111':\n",
    "            win += 10\n",
    "            win_qty += 1\n",
    "        elif res[1:2] == '77':\n",
    "            win += 5\n",
    "            win_qty += 1\n",
    "        elif res[1:2] == '00':\n",
    "            win += 2\n",
    "            win_qty += 1\n",
    "        elif res[2] == '7':\n",
    "            win += 3\n",
    "            win_qty += 1\n",
    "        elif res[2] == '0':\n",
    "            win += 1\n",
    "            win_qty += 1\n",
    "    return(win/trials, abs(win - trials) / trials, win_qty/trials)    \n"
   ]
  },
  {
   "cell_type": "code",
   "execution_count": 86,
   "metadata": {},
   "outputs": [
    {
     "data": {
      "text/plain": [
       "(0.7686458, -0.2313542, 0.2040374)"
      ]
     },
     "execution_count": 86,
     "metadata": {},
     "output_type": "execute_result"
    }
   ],
   "source": [
    "res = func(trials)\n",
    "res"
   ]
  },
  {
   "cell_type": "code",
   "execution_count": 83,
   "metadata": {},
   "outputs": [
    {
     "data": {
      "text/plain": [
       "(0.768011, -0.231989, 0.204234)"
      ]
     },
     "execution_count": 83,
     "metadata": {},
     "output_type": "execute_result"
    }
   ],
   "source": [
    "res"
   ]
  },
  {
   "cell_type": "code",
   "execution_count": 90,
   "metadata": {},
   "outputs": [
    {
     "name": "stdout",
     "output_type": "stream",
     "text": [
      "Игрок выигрывает с каждого рубля : 0.769\n",
      "Игрок проигрывает с каждого рубля : -0.231\n",
      "Вероятность выпадения одной из выигрышных комбинаций : 0.204\n",
      "Игра не выгодна игроку, так как он выигрывает меньше, чем стоит игра\n"
     ]
    }
   ],
   "source": [
    "print(f'Игрок выигрывает с каждого рубля : {res[0]:.3}')\n",
    "print(f'Игрок проигрывает с каждого рубля : {res[1]:.3}')\n",
    "print(f'Вероятность выпадения одной из выигрышных комбинаций : {res[2]:.3}')\n",
    "print('Игра не выгодна игроку, так как он выигрывает меньше, чем стоит игра')"
   ]
  },
  {
   "cell_type": "code",
   "execution_count": null,
   "metadata": {},
   "outputs": [],
   "source": [
    "a = []\n",
    "b = []\n",
    "c = []\n",
    "for _ in range(5):\n",
    "    res = func(trials) \n",
    "    a.append(res[0])\n",
    "    b.append(res[1])\n",
    "    c.append(res[2])\n",
    "print(np.mean(a))\n",
    "print(np.mean(b))\n",
    "print(np.mean(c))"
   ]
  }
 ],
 "metadata": {
  "kernelspec": {
   "display_name": "Python 3",
   "language": "python",
   "name": "python3"
  },
  "language_info": {
   "codemirror_mode": {
    "name": "ipython",
    "version": 3
   },
   "file_extension": ".py",
   "mimetype": "text/x-python",
   "name": "python",
   "nbconvert_exporter": "python",
   "pygments_lexer": "ipython3",
   "version": "3.7.6"
  }
 },
 "nbformat": 4,
 "nbformat_minor": 4
}
